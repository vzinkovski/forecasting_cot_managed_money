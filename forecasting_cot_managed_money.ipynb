{
  "cells": [
    {
      "cell_type": "markdown",
      "metadata": {
        "id": "view-in-github",
        "colab_type": "text"
      },
      "source": [
        "<a href=\"https://colab.research.google.com/github/vzinkovski/forecasting_cot_managed_money/blob/main/forecasting_cot_managed_money.ipynb\" target=\"_parent\"><img src=\"https://colab.research.google.com/assets/colab-badge.svg\" alt=\"Open In Colab\"/></a>"
      ]
    },
    {
      "cell_type": "markdown",
      "metadata": {
        "id": "CtM5VS1o-SCN"
      },
      "source": [
        "# Forecasting Commitment of Traders Managed Money Positions for Agricultural Commodities\n",
        "\n",
        "*Last updated: 22 Jan 2024*"
      ]
    },
    {
      "cell_type": "markdown",
      "metadata": {
        "id": "4-iLZTFAkApr"
      },
      "source": [
        "# Introduction\n",
        "\n",
        "Agricultural commodity futures prices are determined by many factors, however it is well accepted that the primary drivers are supply and demand fundamentals. Prior to expiration, commodity futures contracts enter a delivery period during which cash (i.e. physical) and futures markets will need to converge. Non-convergence is resolved through arbitrage.\n",
        "\n",
        "However, outside the delivery period, futures markets do in fact regularly disconnect from their underlying fundamentals. One powerful force which can influence the price of futures markets is speculative money.\n",
        "\n",
        "The Commodity Futures Trading Commission (CFTC) releases a weekly publication that shows the aggregate holdings of different participants in the U.S. futures markets. This publication is known as the Commitment of Traders (COT) report and released every Friday at 3:30PM Eastern time, showing data from the end of day Tuesday earlier in that same week. As such, the report is a lagging indicator, but nevertheless closely watched by all market participants.\n",
        "\n",
        "The CFTC releases four different versions of the COT report: legacy, supplemental, disaggregated and traders in financial futures (TFF). All of them contain a breakdown of the open interest into long, short and spread positions across the different participants, but differ in terms of how a participant class is constituted. All reports, except the legacy report, are further broken down into two versions, one contains futures positions only, the other contains both futures and options positions combined.\n",
        "\n",
        "Because we are specifically interested in speculative money positioning in the agricultural futures markets, we can therefore consider either the supplemental report or the disaggregated report. The supplemental report covers 13 different agricultural markets, the disaggregated report covers over 150 different commodities across agriculture, energy and metals. Note, the legacy report has been superseded by these two reports, its main flaw being that it lumped passive buy-and-hold index traders together with the speculative traders who actively alternate between long and short market positions.\n",
        "\n",
        "**Who are the speculative traders?**\n",
        "\n",
        "In terms of market participant definitions, the supplemental report labels both hedge funds and proprietary traders under the umbrella term non-commercials. The disaggregated report keeps these two groups separate as managed money and other reportables, respectively. The difference between these two groups is that the former primarily manage money on behalf of their clients, whereas the latter focus on trading their own capital.\n",
        "\n",
        "It should be noted that the non-commercial and managed money positions are highly correlated and therefore being able to forecast the net position for either of these two market participants would be the correct approach.\n",
        "\n",
        "**Objective**\n",
        "\n",
        "In this project we will build a supervised machine learning model to forecast the disaggregated report's managed money combined futures and options net position for CME corn. Although the analysis is specific to corn, the code is easily adaptable to any other agricultural commodity covered by the COT reports. Ultimately, being able to accurately forecast their net position in a given futures market may significantly help guide one's own trading strategy."
      ]
    },
    {
      "cell_type": "markdown",
      "metadata": {
        "id": "JoKpmVoyiMwG"
      },
      "source": [
        "# Libraries"
      ]
    },
    {
      "cell_type": "code",
      "execution_count": 1,
      "metadata": {
        "id": "N38HJl8FseR1"
      },
      "outputs": [],
      "source": [
        "%%capture\n",
        "\n",
        "# install missing libraries\n",
        "!pip install cot_reports # funds positioning data\n",
        "!pip install optuna # bayesian optimisation for hyperparameter tuning\n",
        "!pip install watermark # record dependencies"
      ]
    },
    {
      "cell_type": "code",
      "execution_count": 2,
      "metadata": {
        "id": "JozjHxuaYpak"
      },
      "outputs": [],
      "source": [
        "%%capture\n",
        "\n",
        "# standard libraries\n",
        "import numpy as np\n",
        "import pandas as pd\n",
        "from scipy.stats import jarque_bera, shapiro\n",
        "import statsmodels.api as sm\n",
        "\n",
        "# api libraries\n",
        "import cot_reports as cot\n",
        "import yfinance as yf\n",
        "\n",
        "# machine learning libraries\n",
        "import optuna\n",
        "from optuna.samplers import TPESampler\n",
        "import xgboost as xgb\n",
        "\n",
        "# visualisation libraries\n",
        "import matplotlib.pyplot as plt\n",
        "import seaborn as sns\n",
        "from xgboost import plot_importance\n",
        "\n",
        "# performance metrics\n",
        "from sklearn.metrics import mean_absolute_error, mean_absolute_percentage_error, mean_squared_error\n",
        "from sklearn.model_selection import cross_val_score, TimeSeriesSplit\n",
        "\n",
        "# utilities\n",
        "from functools import partial\n",
        "from tqdm import trange, tqdm"
      ]
    },
    {
      "cell_type": "code",
      "execution_count": 3,
      "metadata": {
        "id": "Nh31X7DnauRw"
      },
      "outputs": [],
      "source": [
        "# pandas display\n",
        "pd.set_option('display.max_columns', None)\n",
        "pd.set_option('display.max_rows', 250)\n",
        "pd.set_option('display.width', None)\n",
        "pd.set_option('display.float_format', lambda x: '{:.2f}'.format(x))\n",
        "\n",
        "# other display\n",
        "optuna.logging.set_verbosity(optuna.logging.WARNING)\n",
        "tqdm = partial(tqdm, position=0, leave=True)"
      ]
    },
    {
      "cell_type": "markdown",
      "metadata": {
        "id": "f2lREMchHh-K"
      },
      "source": [
        "# Commitment of Traders report"
      ]
    },
    {
      "cell_type": "markdown",
      "metadata": {
        "id": "mHO6KLfSEgCA"
      },
      "source": [
        "## Load data"
      ]
    },
    {
      "cell_type": "code",
      "execution_count": 4,
      "metadata": {
        "id": "9YUvVvroJN6M"
      },
      "outputs": [],
      "source": [
        "%%capture\n",
        "\n",
        "# download combined futures and options disaggregated report\n",
        "cot_report = cot.cot_all(cot_report_type='disaggregated_futopt')"
      ]
    },
    {
      "cell_type": "markdown",
      "metadata": {
        "id": "EYaHPLF9EuJL"
      },
      "source": [
        "## Preprocess data\n",
        "\n",
        "First we need to calculate the managed money net position by subtracting the shorts from the longs.\n",
        "\n",
        "Next, because our focus is on forecasting CME corn net positions, we will also need to consider other agricultural commodities which are cointegrated with corn. Specifically, we will use data for soybeans, SRW wheat and HRW wheat. This is not an exhaustive list, but rather a starting point.\n",
        "\n",
        "Cointegration can be thought of in two camps.\n",
        "\n",
        "On the supply side, soybeans, SRW wheat and HRW wheat compete with corn for planting acres. This is the order from most competitive to least, whereby soybeans and corn acres overlap the most (albeit often through crop rotation). Therefore, ceteris paribus, more corn plantings will result in lower corn prices, but also in lower soybean plantings and higher soybean prices. Should soybean prices become much higher relative to corn prices, the farmer will be incentivised to plant more soybeans, thus reversing the earlier trend. The same logic can also be extended to wheat versus corn acres.\n",
        "\n",
        "On the demand side, corn and wheat are - to a certain degree - fungible as an animal feed. This is true mostly for low quality wheat, often a result of poor growing conditions. For example, and again holding all other things equal, if corn prices become expensive relative to wheat, a feedlot may opt to increase the amount of wheat in their ration as a substitute for corn.\n",
        "\n",
        "Simply put, cointegration serves to prevent the prices of two commodities from diverging indefinitely."
      ]
    },
    {
      "cell_type": "code",
      "execution_count": 5,
      "metadata": {
        "id": "LHdn3dCi0l9X"
      },
      "outputs": [],
      "source": [
        "# calculate net managed money positions\n",
        "cot_report['M_Money_Positions_Net_Position'] = cot_report['M_Money_Positions_Long_All'] - cot_report['M_Money_Positions_Short_All']"
      ]
    },
    {
      "cell_type": "code",
      "execution_count": 6,
      "metadata": {
        "id": "R0cbcfv7vjXG"
      },
      "outputs": [],
      "source": [
        "# keep only managed money long and short positions\n",
        "cols_to_keep = [\n",
        "    'Market_and_Exchange_Names',\n",
        "    'Report_Date_as_YYYY-MM-DD',\n",
        "    'M_Money_Positions_Net_Position'\n",
        "]\n",
        "cot_report = cot_report[cols_to_keep]"
      ]
    },
    {
      "cell_type": "code",
      "execution_count": 7,
      "metadata": {
        "id": "mdtyp9iMum6E"
      },
      "outputs": [],
      "source": [
        "# filter dataframe down to cointegrated commodities only\n",
        "commodities_lst = [\n",
        "    'CORN - CHICAGO BOARD OF TRADE',\n",
        "    'SOYBEANS - CHICAGO BOARD OF TRADE',\n",
        "    'WHEAT - CHICAGO BOARD OF TRADE',\n",
        "    'WHEAT - KANSAS CITY BOARD OF TRADE',\n",
        "    'WHEAT-SRW - CHICAGO BOARD OF TRADE',\n",
        "    'WHEAT-HRW - CHICAGO BOARD OF TRADE',\n",
        "]\n",
        "cot_report = cot_report[cot_report['Market_and_Exchange_Names'].isin(commodities_lst)]"
      ]
    },
    {
      "cell_type": "code",
      "execution_count": 8,
      "metadata": {
        "id": "10gbdbc617Wv"
      },
      "outputs": [],
      "source": [
        "# ensure consistent labeling for srw and hrw contracts\n",
        "cot_report['Market_and_Exchange_Names'] = cot_report['Market_and_Exchange_Names'].replace({\n",
        "    'WHEAT - CHICAGO BOARD OF TRADE': 'WHEAT-SRW - CHICAGO BOARD OF TRADE',\n",
        "    'WHEAT - KANSAS CITY BOARD OF TRADE': 'WHEAT-HRW - CHICAGO BOARD OF TRADE',\n",
        "})"
      ]
    },
    {
      "cell_type": "code",
      "execution_count": 9,
      "metadata": {
        "id": "R7h-6Mw3wFC-"
      },
      "outputs": [],
      "source": [
        "# set report date column as a pandas datetimeindex\n",
        "cot_report['Report_Date_as_YYYY-MM-DD'] = pd.to_datetime(cot_report['Report_Date_as_YYYY-MM-DD'])\n",
        "cot_report = cot_report.sort_values(by='Report_Date_as_YYYY-MM-DD')\n",
        "cot_report.set_index('Report_Date_as_YYYY-MM-DD', inplace=True)"
      ]
    },
    {
      "cell_type": "code",
      "execution_count": 10,
      "metadata": {
        "id": "DFykRMo4AF7F"
      },
      "outputs": [],
      "source": [
        "# format dataframe from long to wide\n",
        "cot_report = cot_report.pivot(\n",
        "    columns='Market_and_Exchange_Names',\n",
        "    values='M_Money_Positions_Net_Position',\n",
        ").rename_axis(columns=None)"
      ]
    },
    {
      "cell_type": "code",
      "execution_count": 11,
      "metadata": {
        "id": "kVcs0f3b9Fnz",
        "colab": {
          "base_uri": "https://localhost:8080/"
        },
        "outputId": "82fe2c8a-4e3d-4bda-8472-092c5b339b9e"
      },
      "outputs": [
        {
          "output_type": "execute_result",
          "data": {
            "text/plain": [
              "CORN - CHICAGO BOARD OF TRADE         0\n",
              "SOYBEANS - CHICAGO BOARD OF TRADE     0\n",
              "WHEAT-HRW - CHICAGO BOARD OF TRADE    0\n",
              "WHEAT-SRW - CHICAGO BOARD OF TRADE    0\n",
              "dtype: int64"
            ]
          },
          "metadata": {},
          "execution_count": 11
        }
      ],
      "source": [
        "# check missing values\n",
        "cot_report.isna().sum()"
      ]
    },
    {
      "cell_type": "code",
      "execution_count": 12,
      "metadata": {
        "id": "2m9hqp-r9RKS",
        "colab": {
          "base_uri": "https://localhost:8080/",
          "height": 317
        },
        "outputId": "3e313ec2-62ee-4c04-a059-d09d3f3be065"
      },
      "outputs": [
        {
          "output_type": "execute_result",
          "data": {
            "text/plain": [
              "       CORN - CHICAGO BOARD OF TRADE  SOYBEANS - CHICAGO BOARD OF TRADE  \\\n",
              "count                         919.00                             919.00   \n",
              "mean                        94805.61                           70672.34   \n",
              "std                        169355.16                           81862.67   \n",
              "min                       -322215.00                         -168835.00   \n",
              "25%                        -52157.50                           11046.00   \n",
              "50%                        107600.00                           78989.00   \n",
              "75%                        230260.00                          129155.00   \n",
              "max                        429189.00                          253889.00   \n",
              "\n",
              "       WHEAT-HRW - CHICAGO BOARD OF TRADE  WHEAT-SRW - CHICAGO BOARD OF TRADE  \n",
              "count                              919.00                              919.00  \n",
              "mean                             14034.08                           -18689.28  \n",
              "std                              24396.50                            47979.15  \n",
              "min                             -58866.00                          -162327.00  \n",
              "25%                               1399.00                           -49815.50  \n",
              "50%                              13050.00                            -9815.00  \n",
              "75%                              32197.50                            17033.00  \n",
              "max                              73111.00                            80827.00  "
            ],
            "text/html": [
              "\n",
              "  <div id=\"df-98a51311-d501-4a2d-bae4-d7d1f3cb8ebd\" class=\"colab-df-container\">\n",
              "    <div>\n",
              "<style scoped>\n",
              "    .dataframe tbody tr th:only-of-type {\n",
              "        vertical-align: middle;\n",
              "    }\n",
              "\n",
              "    .dataframe tbody tr th {\n",
              "        vertical-align: top;\n",
              "    }\n",
              "\n",
              "    .dataframe thead th {\n",
              "        text-align: right;\n",
              "    }\n",
              "</style>\n",
              "<table border=\"1\" class=\"dataframe\">\n",
              "  <thead>\n",
              "    <tr style=\"text-align: right;\">\n",
              "      <th></th>\n",
              "      <th>CORN - CHICAGO BOARD OF TRADE</th>\n",
              "      <th>SOYBEANS - CHICAGO BOARD OF TRADE</th>\n",
              "      <th>WHEAT-HRW - CHICAGO BOARD OF TRADE</th>\n",
              "      <th>WHEAT-SRW - CHICAGO BOARD OF TRADE</th>\n",
              "    </tr>\n",
              "  </thead>\n",
              "  <tbody>\n",
              "    <tr>\n",
              "      <th>count</th>\n",
              "      <td>919.00</td>\n",
              "      <td>919.00</td>\n",
              "      <td>919.00</td>\n",
              "      <td>919.00</td>\n",
              "    </tr>\n",
              "    <tr>\n",
              "      <th>mean</th>\n",
              "      <td>94805.61</td>\n",
              "      <td>70672.34</td>\n",
              "      <td>14034.08</td>\n",
              "      <td>-18689.28</td>\n",
              "    </tr>\n",
              "    <tr>\n",
              "      <th>std</th>\n",
              "      <td>169355.16</td>\n",
              "      <td>81862.67</td>\n",
              "      <td>24396.50</td>\n",
              "      <td>47979.15</td>\n",
              "    </tr>\n",
              "    <tr>\n",
              "      <th>min</th>\n",
              "      <td>-322215.00</td>\n",
              "      <td>-168835.00</td>\n",
              "      <td>-58866.00</td>\n",
              "      <td>-162327.00</td>\n",
              "    </tr>\n",
              "    <tr>\n",
              "      <th>25%</th>\n",
              "      <td>-52157.50</td>\n",
              "      <td>11046.00</td>\n",
              "      <td>1399.00</td>\n",
              "      <td>-49815.50</td>\n",
              "    </tr>\n",
              "    <tr>\n",
              "      <th>50%</th>\n",
              "      <td>107600.00</td>\n",
              "      <td>78989.00</td>\n",
              "      <td>13050.00</td>\n",
              "      <td>-9815.00</td>\n",
              "    </tr>\n",
              "    <tr>\n",
              "      <th>75%</th>\n",
              "      <td>230260.00</td>\n",
              "      <td>129155.00</td>\n",
              "      <td>32197.50</td>\n",
              "      <td>17033.00</td>\n",
              "    </tr>\n",
              "    <tr>\n",
              "      <th>max</th>\n",
              "      <td>429189.00</td>\n",
              "      <td>253889.00</td>\n",
              "      <td>73111.00</td>\n",
              "      <td>80827.00</td>\n",
              "    </tr>\n",
              "  </tbody>\n",
              "</table>\n",
              "</div>\n",
              "    <div class=\"colab-df-buttons\">\n",
              "\n",
              "  <div class=\"colab-df-container\">\n",
              "    <button class=\"colab-df-convert\" onclick=\"convertToInteractive('df-98a51311-d501-4a2d-bae4-d7d1f3cb8ebd')\"\n",
              "            title=\"Convert this dataframe to an interactive table.\"\n",
              "            style=\"display:none;\">\n",
              "\n",
              "  <svg xmlns=\"http://www.w3.org/2000/svg\" height=\"24px\" viewBox=\"0 -960 960 960\">\n",
              "    <path d=\"M120-120v-720h720v720H120Zm60-500h600v-160H180v160Zm220 220h160v-160H400v160Zm0 220h160v-160H400v160ZM180-400h160v-160H180v160Zm440 0h160v-160H620v160ZM180-180h160v-160H180v160Zm440 0h160v-160H620v160Z\"/>\n",
              "  </svg>\n",
              "    </button>\n",
              "\n",
              "  <style>\n",
              "    .colab-df-container {\n",
              "      display:flex;\n",
              "      gap: 12px;\n",
              "    }\n",
              "\n",
              "    .colab-df-convert {\n",
              "      background-color: #E8F0FE;\n",
              "      border: none;\n",
              "      border-radius: 50%;\n",
              "      cursor: pointer;\n",
              "      display: none;\n",
              "      fill: #1967D2;\n",
              "      height: 32px;\n",
              "      padding: 0 0 0 0;\n",
              "      width: 32px;\n",
              "    }\n",
              "\n",
              "    .colab-df-convert:hover {\n",
              "      background-color: #E2EBFA;\n",
              "      box-shadow: 0px 1px 2px rgba(60, 64, 67, 0.3), 0px 1px 3px 1px rgba(60, 64, 67, 0.15);\n",
              "      fill: #174EA6;\n",
              "    }\n",
              "\n",
              "    .colab-df-buttons div {\n",
              "      margin-bottom: 4px;\n",
              "    }\n",
              "\n",
              "    [theme=dark] .colab-df-convert {\n",
              "      background-color: #3B4455;\n",
              "      fill: #D2E3FC;\n",
              "    }\n",
              "\n",
              "    [theme=dark] .colab-df-convert:hover {\n",
              "      background-color: #434B5C;\n",
              "      box-shadow: 0px 1px 3px 1px rgba(0, 0, 0, 0.15);\n",
              "      filter: drop-shadow(0px 1px 2px rgba(0, 0, 0, 0.3));\n",
              "      fill: #FFFFFF;\n",
              "    }\n",
              "  </style>\n",
              "\n",
              "    <script>\n",
              "      const buttonEl =\n",
              "        document.querySelector('#df-98a51311-d501-4a2d-bae4-d7d1f3cb8ebd button.colab-df-convert');\n",
              "      buttonEl.style.display =\n",
              "        google.colab.kernel.accessAllowed ? 'block' : 'none';\n",
              "\n",
              "      async function convertToInteractive(key) {\n",
              "        const element = document.querySelector('#df-98a51311-d501-4a2d-bae4-d7d1f3cb8ebd');\n",
              "        const dataTable =\n",
              "          await google.colab.kernel.invokeFunction('convertToInteractive',\n",
              "                                                    [key], {});\n",
              "        if (!dataTable) return;\n",
              "\n",
              "        const docLinkHtml = 'Like what you see? Visit the ' +\n",
              "          '<a target=\"_blank\" href=https://colab.research.google.com/notebooks/data_table.ipynb>data table notebook</a>'\n",
              "          + ' to learn more about interactive tables.';\n",
              "        element.innerHTML = '';\n",
              "        dataTable['output_type'] = 'display_data';\n",
              "        await google.colab.output.renderOutput(dataTable, element);\n",
              "        const docLink = document.createElement('div');\n",
              "        docLink.innerHTML = docLinkHtml;\n",
              "        element.appendChild(docLink);\n",
              "      }\n",
              "    </script>\n",
              "  </div>\n",
              "\n",
              "\n",
              "<div id=\"df-46eb691d-bc18-4012-b482-5a2fb1bc3b87\">\n",
              "  <button class=\"colab-df-quickchart\" onclick=\"quickchart('df-46eb691d-bc18-4012-b482-5a2fb1bc3b87')\"\n",
              "            title=\"Suggest charts\"\n",
              "            style=\"display:none;\">\n",
              "\n",
              "<svg xmlns=\"http://www.w3.org/2000/svg\" height=\"24px\"viewBox=\"0 0 24 24\"\n",
              "     width=\"24px\">\n",
              "    <g>\n",
              "        <path d=\"M19 3H5c-1.1 0-2 .9-2 2v14c0 1.1.9 2 2 2h14c1.1 0 2-.9 2-2V5c0-1.1-.9-2-2-2zM9 17H7v-7h2v7zm4 0h-2V7h2v10zm4 0h-2v-4h2v4z\"/>\n",
              "    </g>\n",
              "</svg>\n",
              "  </button>\n",
              "\n",
              "<style>\n",
              "  .colab-df-quickchart {\n",
              "      --bg-color: #E8F0FE;\n",
              "      --fill-color: #1967D2;\n",
              "      --hover-bg-color: #E2EBFA;\n",
              "      --hover-fill-color: #174EA6;\n",
              "      --disabled-fill-color: #AAA;\n",
              "      --disabled-bg-color: #DDD;\n",
              "  }\n",
              "\n",
              "  [theme=dark] .colab-df-quickchart {\n",
              "      --bg-color: #3B4455;\n",
              "      --fill-color: #D2E3FC;\n",
              "      --hover-bg-color: #434B5C;\n",
              "      --hover-fill-color: #FFFFFF;\n",
              "      --disabled-bg-color: #3B4455;\n",
              "      --disabled-fill-color: #666;\n",
              "  }\n",
              "\n",
              "  .colab-df-quickchart {\n",
              "    background-color: var(--bg-color);\n",
              "    border: none;\n",
              "    border-radius: 50%;\n",
              "    cursor: pointer;\n",
              "    display: none;\n",
              "    fill: var(--fill-color);\n",
              "    height: 32px;\n",
              "    padding: 0;\n",
              "    width: 32px;\n",
              "  }\n",
              "\n",
              "  .colab-df-quickchart:hover {\n",
              "    background-color: var(--hover-bg-color);\n",
              "    box-shadow: 0 1px 2px rgba(60, 64, 67, 0.3), 0 1px 3px 1px rgba(60, 64, 67, 0.15);\n",
              "    fill: var(--button-hover-fill-color);\n",
              "  }\n",
              "\n",
              "  .colab-df-quickchart-complete:disabled,\n",
              "  .colab-df-quickchart-complete:disabled:hover {\n",
              "    background-color: var(--disabled-bg-color);\n",
              "    fill: var(--disabled-fill-color);\n",
              "    box-shadow: none;\n",
              "  }\n",
              "\n",
              "  .colab-df-spinner {\n",
              "    border: 2px solid var(--fill-color);\n",
              "    border-color: transparent;\n",
              "    border-bottom-color: var(--fill-color);\n",
              "    animation:\n",
              "      spin 1s steps(1) infinite;\n",
              "  }\n",
              "\n",
              "  @keyframes spin {\n",
              "    0% {\n",
              "      border-color: transparent;\n",
              "      border-bottom-color: var(--fill-color);\n",
              "      border-left-color: var(--fill-color);\n",
              "    }\n",
              "    20% {\n",
              "      border-color: transparent;\n",
              "      border-left-color: var(--fill-color);\n",
              "      border-top-color: var(--fill-color);\n",
              "    }\n",
              "    30% {\n",
              "      border-color: transparent;\n",
              "      border-left-color: var(--fill-color);\n",
              "      border-top-color: var(--fill-color);\n",
              "      border-right-color: var(--fill-color);\n",
              "    }\n",
              "    40% {\n",
              "      border-color: transparent;\n",
              "      border-right-color: var(--fill-color);\n",
              "      border-top-color: var(--fill-color);\n",
              "    }\n",
              "    60% {\n",
              "      border-color: transparent;\n",
              "      border-right-color: var(--fill-color);\n",
              "    }\n",
              "    80% {\n",
              "      border-color: transparent;\n",
              "      border-right-color: var(--fill-color);\n",
              "      border-bottom-color: var(--fill-color);\n",
              "    }\n",
              "    90% {\n",
              "      border-color: transparent;\n",
              "      border-bottom-color: var(--fill-color);\n",
              "    }\n",
              "  }\n",
              "</style>\n",
              "\n",
              "  <script>\n",
              "    async function quickchart(key) {\n",
              "      const quickchartButtonEl =\n",
              "        document.querySelector('#' + key + ' button');\n",
              "      quickchartButtonEl.disabled = true;  // To prevent multiple clicks.\n",
              "      quickchartButtonEl.classList.add('colab-df-spinner');\n",
              "      try {\n",
              "        const charts = await google.colab.kernel.invokeFunction(\n",
              "            'suggestCharts', [key], {});\n",
              "      } catch (error) {\n",
              "        console.error('Error during call to suggestCharts:', error);\n",
              "      }\n",
              "      quickchartButtonEl.classList.remove('colab-df-spinner');\n",
              "      quickchartButtonEl.classList.add('colab-df-quickchart-complete');\n",
              "    }\n",
              "    (() => {\n",
              "      let quickchartButtonEl =\n",
              "        document.querySelector('#df-46eb691d-bc18-4012-b482-5a2fb1bc3b87 button');\n",
              "      quickchartButtonEl.style.display =\n",
              "        google.colab.kernel.accessAllowed ? 'block' : 'none';\n",
              "    })();\n",
              "  </script>\n",
              "</div>\n",
              "\n",
              "    </div>\n",
              "  </div>\n"
            ]
          },
          "metadata": {},
          "execution_count": 12
        }
      ],
      "source": [
        "# check outliers\n",
        "cot_report.describe()"
      ]
    },
    {
      "cell_type": "code",
      "execution_count": 13,
      "metadata": {
        "id": "0b0hQQLlDu77",
        "colab": {
          "base_uri": "https://localhost:8080/"
        },
        "outputId": "dcbe1504-983f-42e1-e09a-81b57e547e6e"
      },
      "outputs": [
        {
          "output_type": "execute_result",
          "data": {
            "text/plain": [
              "0"
            ]
          },
          "metadata": {},
          "execution_count": 13
        }
      ],
      "source": [
        "# check duplicate dates\n",
        "cot_report.duplicated().sum()"
      ]
    },
    {
      "cell_type": "markdown",
      "metadata": {
        "id": "wFBdw7lLHuqI"
      },
      "source": [
        "# Yahoo! Finance price data\n",
        "\n",
        "Speculative money continually moves between asset classes in search of the highest risk-adjusted returns. Broadly speaking, in a low interest rate environment, equities tend to benefit. Whereas during periods of relatively higher interest rates, money flows into fixed income and commodities. Rightly or wrongly, commodities are perceived as an inflation hedge and thus as the Fed increases rates, we tend to observe an allocation of capital into commodities.\n",
        "\n",
        "On this basis, we incorporate price data for the S&P 500 and the S&P GSCI. Depending on what timeframe is specified, one may find that these two price series can alternate between periods of either moderately positive or negative correlation. Nevertheless, we postulate that including both indexes, and their relative price evolution over time, may contain some signal regarding when speculative money is flowing out of equities and into commodities, or vice-versa."
      ]
    },
    {
      "cell_type": "markdown",
      "metadata": {
        "id": "nuGu-dk3I18U"
      },
      "source": [
        "## Load data"
      ]
    },
    {
      "cell_type": "code",
      "execution_count": 14,
      "metadata": {
        "id": "yShP9MiOHp5o",
        "colab": {
          "base_uri": "https://localhost:8080/"
        },
        "outputId": "4b99c8bf-b333-4215-842b-82a75f6fd1cb"
      },
      "outputs": [
        {
          "output_type": "stream",
          "name": "stderr",
          "text": [
            "[*********************100%%**********************]  2 of 2 completed\n"
          ]
        }
      ],
      "source": [
        "# download s&p gsci and s&p 500 price data\n",
        "price_data = yf.download(\n",
        "    ['^SPGSCI', '^GSPC'],\n",
        "    start=cot_report.index[0],\n",
        ")['Adj Close']"
      ]
    },
    {
      "cell_type": "markdown",
      "metadata": {
        "id": "nGoajezALUcH"
      },
      "source": [
        "## Preprocess data"
      ]
    },
    {
      "cell_type": "code",
      "execution_count": 15,
      "metadata": {
        "id": "xqCVIyL2Lhfw",
        "colab": {
          "base_uri": "https://localhost:8080/"
        },
        "outputId": "3669ac5a-6a52-40be-a3b7-b473eac00d75"
      },
      "outputs": [
        {
          "output_type": "execute_result",
          "data": {
            "text/plain": [
              "Ticker\n",
              "^GSPC      1\n",
              "^SPGSCI    0\n",
              "dtype: int64"
            ]
          },
          "metadata": {},
          "execution_count": 15
        }
      ],
      "source": [
        "# check missing values\n",
        "price_data.isna().sum()"
      ]
    },
    {
      "cell_type": "code",
      "execution_count": 16,
      "metadata": {
        "id": "U9AM2X64Lhfx",
        "colab": {
          "base_uri": "https://localhost:8080/",
          "height": 300
        },
        "outputId": "a287039e-1c2a-44e5-e42c-2ce601c53708"
      },
      "outputs": [
        {
          "output_type": "execute_result",
          "data": {
            "text/plain": [
              "Ticker   ^GSPC  ^SPGSCI\n",
              "count  4434.00  4435.00\n",
              "mean   2279.99   514.45\n",
              "std    1103.40   124.71\n",
              "min     676.53   228.24\n",
              "25%    1360.02   409.68\n",
              "50%    2020.71   502.36\n",
              "75%    2918.42   625.09\n",
              "max    4868.55   890.29"
            ],
            "text/html": [
              "\n",
              "  <div id=\"df-ce0ebf02-94f5-4d1c-87a8-55ce16b4423c\" class=\"colab-df-container\">\n",
              "    <div>\n",
              "<style scoped>\n",
              "    .dataframe tbody tr th:only-of-type {\n",
              "        vertical-align: middle;\n",
              "    }\n",
              "\n",
              "    .dataframe tbody tr th {\n",
              "        vertical-align: top;\n",
              "    }\n",
              "\n",
              "    .dataframe thead th {\n",
              "        text-align: right;\n",
              "    }\n",
              "</style>\n",
              "<table border=\"1\" class=\"dataframe\">\n",
              "  <thead>\n",
              "    <tr style=\"text-align: right;\">\n",
              "      <th>Ticker</th>\n",
              "      <th>^GSPC</th>\n",
              "      <th>^SPGSCI</th>\n",
              "    </tr>\n",
              "  </thead>\n",
              "  <tbody>\n",
              "    <tr>\n",
              "      <th>count</th>\n",
              "      <td>4434.00</td>\n",
              "      <td>4435.00</td>\n",
              "    </tr>\n",
              "    <tr>\n",
              "      <th>mean</th>\n",
              "      <td>2279.99</td>\n",
              "      <td>514.45</td>\n",
              "    </tr>\n",
              "    <tr>\n",
              "      <th>std</th>\n",
              "      <td>1103.40</td>\n",
              "      <td>124.71</td>\n",
              "    </tr>\n",
              "    <tr>\n",
              "      <th>min</th>\n",
              "      <td>676.53</td>\n",
              "      <td>228.24</td>\n",
              "    </tr>\n",
              "    <tr>\n",
              "      <th>25%</th>\n",
              "      <td>1360.02</td>\n",
              "      <td>409.68</td>\n",
              "    </tr>\n",
              "    <tr>\n",
              "      <th>50%</th>\n",
              "      <td>2020.71</td>\n",
              "      <td>502.36</td>\n",
              "    </tr>\n",
              "    <tr>\n",
              "      <th>75%</th>\n",
              "      <td>2918.42</td>\n",
              "      <td>625.09</td>\n",
              "    </tr>\n",
              "    <tr>\n",
              "      <th>max</th>\n",
              "      <td>4868.55</td>\n",
              "      <td>890.29</td>\n",
              "    </tr>\n",
              "  </tbody>\n",
              "</table>\n",
              "</div>\n",
              "    <div class=\"colab-df-buttons\">\n",
              "\n",
              "  <div class=\"colab-df-container\">\n",
              "    <button class=\"colab-df-convert\" onclick=\"convertToInteractive('df-ce0ebf02-94f5-4d1c-87a8-55ce16b4423c')\"\n",
              "            title=\"Convert this dataframe to an interactive table.\"\n",
              "            style=\"display:none;\">\n",
              "\n",
              "  <svg xmlns=\"http://www.w3.org/2000/svg\" height=\"24px\" viewBox=\"0 -960 960 960\">\n",
              "    <path d=\"M120-120v-720h720v720H120Zm60-500h600v-160H180v160Zm220 220h160v-160H400v160Zm0 220h160v-160H400v160ZM180-400h160v-160H180v160Zm440 0h160v-160H620v160ZM180-180h160v-160H180v160Zm440 0h160v-160H620v160Z\"/>\n",
              "  </svg>\n",
              "    </button>\n",
              "\n",
              "  <style>\n",
              "    .colab-df-container {\n",
              "      display:flex;\n",
              "      gap: 12px;\n",
              "    }\n",
              "\n",
              "    .colab-df-convert {\n",
              "      background-color: #E8F0FE;\n",
              "      border: none;\n",
              "      border-radius: 50%;\n",
              "      cursor: pointer;\n",
              "      display: none;\n",
              "      fill: #1967D2;\n",
              "      height: 32px;\n",
              "      padding: 0 0 0 0;\n",
              "      width: 32px;\n",
              "    }\n",
              "\n",
              "    .colab-df-convert:hover {\n",
              "      background-color: #E2EBFA;\n",
              "      box-shadow: 0px 1px 2px rgba(60, 64, 67, 0.3), 0px 1px 3px 1px rgba(60, 64, 67, 0.15);\n",
              "      fill: #174EA6;\n",
              "    }\n",
              "\n",
              "    .colab-df-buttons div {\n",
              "      margin-bottom: 4px;\n",
              "    }\n",
              "\n",
              "    [theme=dark] .colab-df-convert {\n",
              "      background-color: #3B4455;\n",
              "      fill: #D2E3FC;\n",
              "    }\n",
              "\n",
              "    [theme=dark] .colab-df-convert:hover {\n",
              "      background-color: #434B5C;\n",
              "      box-shadow: 0px 1px 3px 1px rgba(0, 0, 0, 0.15);\n",
              "      filter: drop-shadow(0px 1px 2px rgba(0, 0, 0, 0.3));\n",
              "      fill: #FFFFFF;\n",
              "    }\n",
              "  </style>\n",
              "\n",
              "    <script>\n",
              "      const buttonEl =\n",
              "        document.querySelector('#df-ce0ebf02-94f5-4d1c-87a8-55ce16b4423c button.colab-df-convert');\n",
              "      buttonEl.style.display =\n",
              "        google.colab.kernel.accessAllowed ? 'block' : 'none';\n",
              "\n",
              "      async function convertToInteractive(key) {\n",
              "        const element = document.querySelector('#df-ce0ebf02-94f5-4d1c-87a8-55ce16b4423c');\n",
              "        const dataTable =\n",
              "          await google.colab.kernel.invokeFunction('convertToInteractive',\n",
              "                                                    [key], {});\n",
              "        if (!dataTable) return;\n",
              "\n",
              "        const docLinkHtml = 'Like what you see? Visit the ' +\n",
              "          '<a target=\"_blank\" href=https://colab.research.google.com/notebooks/data_table.ipynb>data table notebook</a>'\n",
              "          + ' to learn more about interactive tables.';\n",
              "        element.innerHTML = '';\n",
              "        dataTable['output_type'] = 'display_data';\n",
              "        await google.colab.output.renderOutput(dataTable, element);\n",
              "        const docLink = document.createElement('div');\n",
              "        docLink.innerHTML = docLinkHtml;\n",
              "        element.appendChild(docLink);\n",
              "      }\n",
              "    </script>\n",
              "  </div>\n",
              "\n",
              "\n",
              "<div id=\"df-e23faa8f-5337-49cc-ad2c-96ec94328b0c\">\n",
              "  <button class=\"colab-df-quickchart\" onclick=\"quickchart('df-e23faa8f-5337-49cc-ad2c-96ec94328b0c')\"\n",
              "            title=\"Suggest charts\"\n",
              "            style=\"display:none;\">\n",
              "\n",
              "<svg xmlns=\"http://www.w3.org/2000/svg\" height=\"24px\"viewBox=\"0 0 24 24\"\n",
              "     width=\"24px\">\n",
              "    <g>\n",
              "        <path d=\"M19 3H5c-1.1 0-2 .9-2 2v14c0 1.1.9 2 2 2h14c1.1 0 2-.9 2-2V5c0-1.1-.9-2-2-2zM9 17H7v-7h2v7zm4 0h-2V7h2v10zm4 0h-2v-4h2v4z\"/>\n",
              "    </g>\n",
              "</svg>\n",
              "  </button>\n",
              "\n",
              "<style>\n",
              "  .colab-df-quickchart {\n",
              "      --bg-color: #E8F0FE;\n",
              "      --fill-color: #1967D2;\n",
              "      --hover-bg-color: #E2EBFA;\n",
              "      --hover-fill-color: #174EA6;\n",
              "      --disabled-fill-color: #AAA;\n",
              "      --disabled-bg-color: #DDD;\n",
              "  }\n",
              "\n",
              "  [theme=dark] .colab-df-quickchart {\n",
              "      --bg-color: #3B4455;\n",
              "      --fill-color: #D2E3FC;\n",
              "      --hover-bg-color: #434B5C;\n",
              "      --hover-fill-color: #FFFFFF;\n",
              "      --disabled-bg-color: #3B4455;\n",
              "      --disabled-fill-color: #666;\n",
              "  }\n",
              "\n",
              "  .colab-df-quickchart {\n",
              "    background-color: var(--bg-color);\n",
              "    border: none;\n",
              "    border-radius: 50%;\n",
              "    cursor: pointer;\n",
              "    display: none;\n",
              "    fill: var(--fill-color);\n",
              "    height: 32px;\n",
              "    padding: 0;\n",
              "    width: 32px;\n",
              "  }\n",
              "\n",
              "  .colab-df-quickchart:hover {\n",
              "    background-color: var(--hover-bg-color);\n",
              "    box-shadow: 0 1px 2px rgba(60, 64, 67, 0.3), 0 1px 3px 1px rgba(60, 64, 67, 0.15);\n",
              "    fill: var(--button-hover-fill-color);\n",
              "  }\n",
              "\n",
              "  .colab-df-quickchart-complete:disabled,\n",
              "  .colab-df-quickchart-complete:disabled:hover {\n",
              "    background-color: var(--disabled-bg-color);\n",
              "    fill: var(--disabled-fill-color);\n",
              "    box-shadow: none;\n",
              "  }\n",
              "\n",
              "  .colab-df-spinner {\n",
              "    border: 2px solid var(--fill-color);\n",
              "    border-color: transparent;\n",
              "    border-bottom-color: var(--fill-color);\n",
              "    animation:\n",
              "      spin 1s steps(1) infinite;\n",
              "  }\n",
              "\n",
              "  @keyframes spin {\n",
              "    0% {\n",
              "      border-color: transparent;\n",
              "      border-bottom-color: var(--fill-color);\n",
              "      border-left-color: var(--fill-color);\n",
              "    }\n",
              "    20% {\n",
              "      border-color: transparent;\n",
              "      border-left-color: var(--fill-color);\n",
              "      border-top-color: var(--fill-color);\n",
              "    }\n",
              "    30% {\n",
              "      border-color: transparent;\n",
              "      border-left-color: var(--fill-color);\n",
              "      border-top-color: var(--fill-color);\n",
              "      border-right-color: var(--fill-color);\n",
              "    }\n",
              "    40% {\n",
              "      border-color: transparent;\n",
              "      border-right-color: var(--fill-color);\n",
              "      border-top-color: var(--fill-color);\n",
              "    }\n",
              "    60% {\n",
              "      border-color: transparent;\n",
              "      border-right-color: var(--fill-color);\n",
              "    }\n",
              "    80% {\n",
              "      border-color: transparent;\n",
              "      border-right-color: var(--fill-color);\n",
              "      border-bottom-color: var(--fill-color);\n",
              "    }\n",
              "    90% {\n",
              "      border-color: transparent;\n",
              "      border-bottom-color: var(--fill-color);\n",
              "    }\n",
              "  }\n",
              "</style>\n",
              "\n",
              "  <script>\n",
              "    async function quickchart(key) {\n",
              "      const quickchartButtonEl =\n",
              "        document.querySelector('#' + key + ' button');\n",
              "      quickchartButtonEl.disabled = true;  // To prevent multiple clicks.\n",
              "      quickchartButtonEl.classList.add('colab-df-spinner');\n",
              "      try {\n",
              "        const charts = await google.colab.kernel.invokeFunction(\n",
              "            'suggestCharts', [key], {});\n",
              "      } catch (error) {\n",
              "        console.error('Error during call to suggestCharts:', error);\n",
              "      }\n",
              "      quickchartButtonEl.classList.remove('colab-df-spinner');\n",
              "      quickchartButtonEl.classList.add('colab-df-quickchart-complete');\n",
              "    }\n",
              "    (() => {\n",
              "      let quickchartButtonEl =\n",
              "        document.querySelector('#df-e23faa8f-5337-49cc-ad2c-96ec94328b0c button');\n",
              "      quickchartButtonEl.style.display =\n",
              "        google.colab.kernel.accessAllowed ? 'block' : 'none';\n",
              "    })();\n",
              "  </script>\n",
              "</div>\n",
              "\n",
              "    </div>\n",
              "  </div>\n"
            ]
          },
          "metadata": {},
          "execution_count": 16
        }
      ],
      "source": [
        "# check outliers\n",
        "price_data.describe()"
      ]
    },
    {
      "cell_type": "code",
      "execution_count": 17,
      "metadata": {
        "id": "jtH6-joVLhfx",
        "colab": {
          "base_uri": "https://localhost:8080/"
        },
        "outputId": "e36fcef7-529f-4482-bfc5-d464d5982c5a"
      },
      "outputs": [
        {
          "output_type": "execute_result",
          "data": {
            "text/plain": [
              "0"
            ]
          },
          "metadata": {},
          "execution_count": 17
        }
      ],
      "source": [
        "# check duplicate dates\n",
        "price_data.duplicated().sum()"
      ]
    },
    {
      "cell_type": "code",
      "execution_count": 18,
      "metadata": {
        "id": "7sODVBnHaU0I"
      },
      "outputs": [],
      "source": [
        "# add 5-day rolling averages for s&p 500 and s&p gsci to capture weekly information\n",
        "price_data['^GSPC_7dma'] = price_data['^GSPC'].rolling(window=5).mean()\n",
        "price_data['^SPGSCI_7dma'] = price_data['^SPGSCI'].rolling(window=5).mean()\n",
        "price_data.dropna(inplace=True)"
      ]
    },
    {
      "cell_type": "markdown",
      "metadata": {
        "id": "EWMrP2XxI6Pg"
      },
      "source": [
        "# Join data\n",
        "\n",
        "Our COT report data is weekly, however our price data is daily. In order to match these two datasets, we perform a left join, thereby downsampling daily price data to weekly. In order to maintain memory of those days which were removed during the downsampling procedure, we also include a 5-day (i.e. one calendar week) rolling moving average of prices. Additionally, this helps smooth out any spurious spikes or drops in price that may have occurred on the sampling date."
      ]
    },
    {
      "cell_type": "code",
      "execution_count": 19,
      "metadata": {
        "id": "vKOzUPgzMnIf"
      },
      "outputs": [],
      "source": [
        "# merge cot_report and price_data dataframes into a main df\n",
        "main_df = pd.merge(\n",
        "    left=cot_report,\n",
        "    right=price_data,\n",
        "    how='left',\n",
        "    left_index=True,\n",
        "    right_index=True\n",
        ")\n",
        "\n",
        "# handle missing values\n",
        "main_df.ffill(inplace=True)\n",
        "main_df.dropna(inplace=True)"
      ]
    },
    {
      "cell_type": "code",
      "execution_count": 20,
      "metadata": {
        "id": "VLEhkkhv9Vcl"
      },
      "outputs": [],
      "source": [
        "# rename columns for convenience\n",
        "main_df.rename(\n",
        "    columns={\n",
        "        'CORN - CHICAGO BOARD OF TRADE': 'corn',\n",
        "        'SOYBEANS - CHICAGO BOARD OF TRADE': 'soybeans',\n",
        "        'WHEAT-HRW - CHICAGO BOARD OF TRADE': 'wheat_hrw',\n",
        "        'WHEAT-SRW - CHICAGO BOARD OF TRADE': 'wheat_srw',\n",
        "    },\n",
        "    inplace=True,\n",
        ")\n",
        "\n",
        "# rename index\n",
        "main_df.index.rename('Date', inplace=True)"
      ]
    },
    {
      "cell_type": "markdown",
      "metadata": {
        "id": "X3UVnD1RcVhC"
      },
      "source": [
        "# Define independent variable\n",
        "\n",
        "In order to convert our time series problem into a supervised learning problem, we define the CME corn net position at $t_{+1}$ as our response variable $y$."
      ]
    },
    {
      "cell_type": "code",
      "execution_count": 21,
      "metadata": {
        "id": "4GSx8BOmcki1"
      },
      "outputs": [],
      "source": [
        "# create independent variable y and drop missing rows\n",
        "main_df['y'] = main_df['corn'].shift(-1)\n",
        "main_df.dropna(inplace=True)"
      ]
    },
    {
      "cell_type": "markdown",
      "metadata": {
        "id": "h4w3IYlmFiP4"
      },
      "source": [
        "# Feature engineering\n",
        "\n",
        "The best predictive models are those that have access to the best data. By best we mean the most relevant, timely, and generally speaking, more data is better. Most retail investors have access to largely the same data. Therefore, in order to gain an edge, the next best approach is to make intelligent use of the data at hand through further feature engineering. Below we employ a classic set of data augmentation techniques, which are equally applicable to time series from other domains."
      ]
    },
    {
      "cell_type": "markdown",
      "metadata": {
        "id": "BMGCfDFZansm"
      },
      "source": [
        "## Date features\n",
        "\n",
        "We extract date based features with the understanding that the week, month or quarter in any given year can provide us with information. This is especially pertinent to agricultural commodities as both northern and southern hemisphere planting and harvesting are events which may exert strong seasonal influence on futures prices."
      ]
    },
    {
      "cell_type": "code",
      "execution_count": 22,
      "metadata": {
        "id": "XqZxxICuWHwd"
      },
      "outputs": [],
      "source": [
        "def date_features(df):\n",
        "\n",
        "    # extract week, month and quarter for each date\n",
        "    df['week'] = df.index.isocalendar().week\n",
        "    df['month'] = df.index.month\n",
        "    df['quarter'] = df.index.quarter\n",
        "\n",
        "    return df"
      ]
    },
    {
      "cell_type": "markdown",
      "metadata": {
        "id": "QJRYr6qUyeCg"
      },
      "source": [
        "## Ratio features\n",
        "\n",
        "Next, we calculate various ratios, which is a way to model non-linear interactions among the predictors. Specifically, we attempt to capture information relating to what percentage of all grains are held in corn and how that evolves over time, as well as a more granular look at what proportion is held in corn versus soybeans, SRW wheat and HRW wheat."
      ]
    },
    {
      "cell_type": "code",
      "execution_count": 23,
      "metadata": {
        "id": "Iwgw9CrdCQ8-"
      },
      "outputs": [],
      "source": [
        "def ratio_features(df):\n",
        "\n",
        "    # aggregate feature\n",
        "    df['grains_net_position'] = df['corn'] + df['soybeans'] + df['wheat_hrw'] + df['wheat_srw']\n",
        "\n",
        "    # corn vs. others ratio features\n",
        "    df['corn_soybeans_ratio'] = df['corn'] / df['soybeans']\n",
        "    df['corn_hrw_ratio'] = df['corn'] / df['wheat_hrw']\n",
        "    df['corn_srw_ratio'] = df['corn'] / df['wheat_srw']\n",
        "    df['corn_wheat_ratio'] = df['corn'] / (df['wheat_hrw'] + df['wheat_srw'])\n",
        "    df['corn_grains_net_position_ratio'] = df['corn'] / df['grains_net_position']\n",
        "\n",
        "    # others vs. others ratio features\n",
        "    df['soybeans_grains_net_position_ratio'] = df['soybeans'] / df['grains_net_position']\n",
        "    df['hrw_grains_net_position_ratio'] = df['wheat_hrw'] / df['grains_net_position']\n",
        "    df['srw_grains_net_position_ratio'] = df['wheat_srw'] / df['grains_net_position']\n",
        "    df['wheat_grains_net_position_ratio'] = (df['wheat_hrw'] + df['wheat_srw']) / df['grains_net_position']\n",
        "\n",
        "    return df"
      ]
    },
    {
      "cell_type": "markdown",
      "metadata": {
        "id": "0vffVwZKN-Au"
      },
      "source": [
        "## Return features\n"
      ]
    },
    {
      "cell_type": "code",
      "execution_count": 24,
      "metadata": {
        "id": "jeYqa-cIzorj"
      },
      "outputs": [],
      "source": [
        "def return_features(df, columns, periods):\n",
        "\n",
        "    # compute percentage changes between periods\n",
        "    for period in range(1, periods+1):\n",
        "        new_cols = [f'{col}_return_{period}t' for col in columns]\n",
        "        df[new_cols] = df[columns].shift(periods=period)\n",
        "\n",
        "    return df"
      ]
    },
    {
      "cell_type": "markdown",
      "metadata": {
        "id": "XkpPC5W7ylvM"
      },
      "source": [
        "## Rolling features"
      ]
    },
    {
      "cell_type": "code",
      "execution_count": 25,
      "metadata": {
        "id": "TPr57V2ImL39"
      },
      "outputs": [],
      "source": [
        "def rolling_features(df, columns, windows):\n",
        "\n",
        "    # define column names\n",
        "    mean_cols = [f'{col}_mean' for col in columns]\n",
        "    std_cols = [f'{col}_std' for col in columns]\n",
        "    min_cols = [f'{col}_min' for col in columns]\n",
        "    max_cols = [f'{col}_max' for col in columns]\n",
        "\n",
        "    # add rolling mean, std, min and max features\n",
        "    for window in windows:\n",
        "\n",
        "        mean_colnames = [f'{col}_{window}t' for col in mean_cols]\n",
        "        df[mean_colnames] = df[columns].rolling(window=window).mean()\n",
        "\n",
        "        std_colnames = [f'{col}_{window}t' for col in std_cols]\n",
        "        df[std_colnames] = df[columns].rolling(window=window).std()\n",
        "\n",
        "        min_colnames = [f'{col}_{window}t' for col in min_cols]\n",
        "        df[min_colnames] = df[columns].rolling(window=window).min()\n",
        "\n",
        "        max_colnames = [f'{col}_{window}t' for col in max_cols]\n",
        "        df[max_colnames] = df[columns].rolling(window=window).max()\n",
        "\n",
        "    return df"
      ]
    },
    {
      "cell_type": "markdown",
      "metadata": {
        "id": "HASUwSsEyilq"
      },
      "source": [
        "## Lagged features"
      ]
    },
    {
      "cell_type": "code",
      "execution_count": 26,
      "metadata": {
        "id": "dimHZ7DX6oSL"
      },
      "outputs": [],
      "source": [
        "def lagged_features(df, columns, lags):\n",
        "\n",
        "    # create columns containing lagged values\n",
        "    for lag in range(1, lags+1):\n",
        "        new_cols = [f'{col}_t-{lag}' for col in columns]\n",
        "        df[new_cols] = df[columns].shift(periods=lag)\n",
        "\n",
        "    return df"
      ]
    },
    {
      "cell_type": "markdown",
      "metadata": {
        "id": "A5kRHDNq0S5o"
      },
      "source": [
        "# Augment dataset\n",
        "\n",
        "In the following code block we define the parameters for three operations to further extract additional signal from our time series data.\n",
        "\n",
        "We consider weekly percentage changes, comparing the current observation with $t_{-n}$ weeks prior, going back up to one month. We perform this for all features, including the earlier computed ratios.\n",
        "\n",
        "Next we capture rolling statistics for mean, standard deviation, min and max values for a one, two and three month lookback period. We perform this for the corn position features only in order to avoid creating an excessively large number of predictors and thereby potentially exposing us to the curse of dimensionality.\n",
        "\n",
        "Lastly, we take lagged values of our dependent variable reaching back three months and then transform these into predictor variables. This approach is identical to what one would expect in an ARIMA model, specifically the AR part. The MA part involves accounting for a weighted sum of past white noise error terms. We also specifically account for modeling the errors, albeit in a different manner, namely through using a gradient boosted decision tree as our model algorithm."
      ]
    },
    {
      "cell_type": "code",
      "execution_count": 27,
      "metadata": {
        "id": "B3S7uyDSxFGP"
      },
      "outputs": [],
      "source": [
        "# number of periods and list of features for which to calculate returns\n",
        "periods = 4\n",
        "return_cols = [\n",
        "    'corn', 'soybeans', 'wheat_hrw', 'wheat_srw',\n",
        "    'corn_soybeans_ratio', 'corn_hrw_ratio', 'corn_srw_ratio', 'corn_wheat_ratio',\n",
        "    'grains_net_position', 'corn_grains_net_position_ratio',\n",
        "    '^GSPC', '^SPGSCI', '^GSPC_7dma', '^SPGSCI_7dma',\n",
        "]\n",
        "\n",
        "# window length and list of features for which to calculate rolling statistics\n",
        "windows = [4, 8, 12]\n",
        "rolling_cols = [\n",
        "    'corn',\n",
        "    'grains_net_position', 'corn_grains_net_position_ratio',\n",
        "]\n",
        "\n",
        "# number of lags and list of features on which to perform lagged operation\n",
        "lags = 12\n",
        "lagged_cols = [\n",
        "    'corn',\n",
        "    'corn_return_1t',\n",
        "    'corn_grains_net_position_ratio_return_1t',\n",
        "]"
      ]
    },
    {
      "cell_type": "code",
      "execution_count": 28,
      "metadata": {
        "id": "7zcbUK_J4DSO"
      },
      "outputs": [],
      "source": [
        "def feature_engineering(df):\n",
        "\n",
        "    # feature engineering steps to perform sequentially\n",
        "    df = date_features(df)\n",
        "    df = ratio_features(df)\n",
        "    df = return_features(df, return_cols, periods)\n",
        "    df = rolling_features(df, rolling_cols, windows)\n",
        "    df = lagged_features(df, lagged_cols, lags)\n",
        "\n",
        "    return df"
      ]
    },
    {
      "cell_type": "code",
      "execution_count": 29,
      "metadata": {
        "id": "7K9smz5mIEeD",
        "colab": {
          "base_uri": "https://localhost:8080/"
        },
        "outputId": "f41604a5-56c4-41e5-f18e-4e683a408ff2"
      },
      "outputs": [
        {
          "output_type": "stream",
          "name": "stdout",
          "text": [
            "(917, 150)\n",
            "CPU times: user 232 ms, sys: 1.87 ms, total: 233 ms\n",
            "Wall time: 287 ms\n"
          ]
        }
      ],
      "source": [
        "%%time\n",
        "\n",
        "# run main df through our custom feature engineering pipeline\n",
        "main_df = feature_engineering(main_df)\n",
        "print(main_df.shape)"
      ]
    },
    {
      "cell_type": "markdown",
      "metadata": {
        "id": "sITmzffqkULB"
      },
      "source": [
        "# Train test split\n",
        "\n",
        "We specify all data up to and including the year 2021 as our training set. We do not set aside a separate validation set considering the limited size of our dataset. Rather, we will use a time series cross validation approach, thereby reusing our scarce data optimally in order to tune our model and evaluate its in-sample performance. Lastly, we perform one final assessment of our model on the out-of-sample test set, which in this case encompasses all data from 2022 until present."
      ]
    },
    {
      "cell_type": "code",
      "execution_count": 30,
      "metadata": {
        "id": "JxQcv_sEFjff"
      },
      "outputs": [],
      "source": [
        "# specify date for end of training data\n",
        "end_train_date = '2021-12-31'\n",
        "train_df = main_df[:end_train_date]\n",
        "\n",
        "# split data into X and y\n",
        "X_train = train_df.drop('y', axis=1)\n",
        "y_train = train_df['y']"
      ]
    },
    {
      "cell_type": "markdown",
      "metadata": {
        "id": "ryDE_W-jGWXp"
      },
      "source": [
        "# Train model\n",
        "\n",
        "We have opted for an XGBoost Regressor as our model, which is a gradient boosted decision tree for regression problems. This model is known to perform exceptionally well on tabular data and is both a frequent winner of Kaggle competitions and finds wide practical application in industry."
      ]
    },
    {
      "cell_type": "code",
      "execution_count": 31,
      "metadata": {
        "id": "vQ6UhuRtgOyr"
      },
      "outputs": [],
      "source": [
        "%%capture\n",
        "\n",
        "# instantiate untuned base model\n",
        "params = {\n",
        "    'n_estimators': 500,\n",
        "    'n_jobs': -1,\n",
        "    'random_state': 42,\n",
        "    'importance_type': 'gain',\n",
        "}\n",
        "estimator = xgb.XGBRegressor(**params)\n",
        "estimator.fit(X_train, y_train)"
      ]
    },
    {
      "cell_type": "markdown",
      "metadata": {
        "id": "BoLXpNrWf-Vs"
      },
      "source": [
        "## Feature importances\n",
        "\n",
        "An advantage of tree-based models is that they provide insight into how much each feature contributes to computing a final prediction.\n",
        "\n",
        "In order to calculate our feature importances we use the 'gain' metric, which reflects the improvement in accuracy or reduction in the loss function that a particular feature brings to the model. The actual numerical value produced by the gain calculation is non-intuitive and only useful when comparing different features in the same model.\n",
        "\n",
        "The below chart reinforces what we empirically know to be true, namely that financial time series contain a very low signal-to-noise ratio. This chart shows us that the observation at current time step $t$ is the most informative feature in predicting our response variable $t_{+1}$. In other words, the current managed money net position for CME corn is by far the best guess for next week's position."
      ]
    },
    {
      "cell_type": "code",
      "source": [
        "# plot feature importances\n",
        "plot_importance(estimator, max_num_features=25, importance_type='gain')\n",
        "plt.show()"
      ],
      "metadata": {
        "colab": {
          "base_uri": "https://localhost:8080/",
          "height": 472
        },
        "id": "8W-iyUMd7ubz",
        "outputId": "57b29584-6465-44f6-8271-b3ffad31b647"
      },
      "execution_count": 32,
      "outputs": [
        {
          "output_type": "display_data",
          "data": {
            "text/plain": [
              "<Figure size 640x480 with 1 Axes>"
            ],
            "image/png": "[encoded data removed]"
          },
          "metadata": {}
        }
      ]
    },
    {
      "cell_type": "markdown",
      "metadata": {
        "id": "6Y-UvXTqwXXi"
      },
      "source": [
        "## Feature selection\n",
        "\n",
        "From the above chart we see that beyond the first variable, the feature importance score drops dramatically. As such, the predictive contribution of subsequent variables quickly becomes marginal and we would do well to remove the least informative ones.\n",
        "\n",
        "We first employ a simple (and somewhat arbitrary) approach by keeping the square root of the number of observations as the number of independent variables, which leaves us with 30 predictors. The earlier chart shows a top 25 and thus including 30 may in fact still leave us with uninformative features. However, in practice this is not much of an issue and we will account for this through a combination of L1 and L2 regularisation (i.e. elastic net) which shrinks the contribution of uninformative features and helps prevent overfitting."
      ]
    },
    {
      "cell_type": "code",
      "execution_count": 33,
      "metadata": {
        "id": "qA-mQrFJxHWc"
      },
      "outputs": [],
      "source": [
        "# keep sqrt(observations) as # of features\n",
        "k = int(len(X_train)**0.5)\n",
        "\n",
        "# get feature importance scores\n",
        "importance_scores = estimator.feature_importances_\n",
        "feature_names = X_train.columns\n",
        "feature_importance_df = pd.DataFrame({'Feature': feature_names, 'Importance': importance_scores})\n",
        "feature_importance_df = feature_importance_df.sort_values(by='Importance', ascending=False)\n",
        "k_best_cols = feature_importance_df.iloc[:k]['Feature'].values\n",
        "\n",
        "# select k best features\n",
        "main_df = main_df[k_best_cols.tolist() + ['y']]\n",
        "X_train = X_train[k_best_cols]"
      ]
    },
    {
      "cell_type": "markdown",
      "metadata": {
        "id": "I5SpwAt4GbRQ"
      },
      "source": [
        "## Hyperparameter tuning\n",
        "\n",
        "There are three main flavours of hyperparameter tuning, via exhaustive grid search, randomised grid search, and employing Bayesian optimisation algorithms. An exhaustive grid search has well known limitations in that it fails to consider the subspace between the predefined hyperparameters. A randomised search does better, but still does not consider convexity in the loss surface. Therefore, we opt to use the Optuna library, which employs Bayesian optimisation to iteratively consider a more optimal combination of hyperparameters.\n",
        "\n",
        "Furthermore, we employ a walk-forward time series validation approach using five folds, each fold consisting of 52 weeks (i.e. one year). The first fold uses all data beginning from 2006 up to and including 2016 for training, then evaluates model performance on 2017. The next fold uses the same training data including 2017 and then evaluates model performance on 2018 data. We roll forward in this fashion where our last evaluation fold is 2021.\n",
        "\n",
        "We then return the average RMSE across these 5 folds for a given hyperparameter combination.\n",
        "\n",
        "The hyperparameters being tuned are as follows:\n",
        "- the number of trees within each ensemble\n",
        "- the maximum individual tree depth\n",
        "- the learning rate which determines how much each subsequent tree in the ensemble learns from the mistakes of the previous trees\n",
        "- the L1 (alpha) and L2 (lambda) parameters which add penalty terms to the objective function in order to prevent overfitting\n",
        "\n",
        "We wrap the above logic inside an Optuna study object which will seek to minimise the RMSE over 30 trials, which from experience is a sufficient number of iterations to find a near optimal hyperparameter combination."
      ]
    },
    {
      "cell_type": "code",
      "execution_count": 34,
      "metadata": {
        "id": "UWwNpTk0aAp3",
        "colab": {
          "base_uri": "https://localhost:8080/"
        },
        "outputId": "0ec094be-01c2-4802-800e-0cd59800dc95"
      },
      "outputs": [
        {
          "output_type": "stream",
          "name": "stdout",
          "text": [
            "CPU times: user 11min 14s, sys: 2.56 s, total: 11min 16s\n",
            "Wall time: 6min 30s\n"
          ]
        }
      ],
      "source": [
        "%%time\n",
        "\n",
        "def objective(trial):\n",
        "\n",
        "    # xgboost regressor hyperparameters to explore\n",
        "    params = {\n",
        "        'n_estimators': trial.suggest_int('n_estimators', 100, 1000),\n",
        "        'max_depth': trial.suggest_int('max_depth', 2, 6),\n",
        "        'learning_rate': trial.suggest_float('learning_rate', 1e-3, 0.1, log=True),\n",
        "        'n_jobs': -1,\n",
        "        'reg_alpha': trial.suggest_float('reg_alpha', 0., 3.),\n",
        "        'reg_lambda': trial.suggest_float('reg_lambda', 0., 3.),\n",
        "        'random_state': 42,\n",
        "        'importance_type': 'gain',\n",
        "    }\n",
        "\n",
        "    # time series cross validation\n",
        "    n_samples = len(train_df)\n",
        "    tscv = TimeSeriesSplit(n_splits=5, test_size=52) # test folds of approx one year each\n",
        "\n",
        "    # get rmse for each cross validation fold\n",
        "    scores = cross_val_score(\n",
        "        estimator=xgb.XGBRegressor(**params),\n",
        "        X=X_train,\n",
        "        y=y_train,\n",
        "        scoring='neg_mean_squared_error',\n",
        "        cv=tscv,\n",
        "    )\n",
        "\n",
        "    # return average rmse across folds\n",
        "    return np.mean(scores)\n",
        "\n",
        "# run bayesian hyperparameter optimisation with 30 trials\n",
        "random_state = TPESampler(seed=1) # set random seed for reproducibility\n",
        "study = optuna.create_study(direction='maximize', sampler=random_state)\n",
        "study.optimize(objective, n_trials=30, gc_after_trial=True)"
      ]
    },
    {
      "cell_type": "code",
      "execution_count": 35,
      "metadata": {
        "id": "41pjo3S7ovIe",
        "colab": {
          "base_uri": "https://localhost:8080/"
        },
        "outputId": "668bbf33-2575-468e-e349-523a25b313d2"
      },
      "outputs": [
        {
          "output_type": "stream",
          "name": "stdout",
          "text": [
            "Best hyperparameters: {'n_estimators': 888, 'max_depth': 2, 'learning_rate': 0.00602599875098352, 'reg_alpha': 2.9595829501008013, 'reg_lambda': 0.7450080500730075}\n"
          ]
        }
      ],
      "source": [
        "# display best hyperparameters\n",
        "print('Best hyperparameters:', study.best_params)"
      ]
    },
    {
      "cell_type": "code",
      "execution_count": 36,
      "metadata": {
        "id": "he_pPGs-aFX1"
      },
      "outputs": [],
      "source": [
        "%%capture\n",
        "\n",
        "# instantiate new model with best hyperparameters\n",
        "estimator = xgb.XGBRegressor(**study.best_trial.params)\n",
        "\n",
        "# refit model\n",
        "estimator.fit(X_train, y_train)"
      ]
    },
    {
      "cell_type": "markdown",
      "metadata": {
        "id": "jsYHmJzIVbTc"
      },
      "source": [
        "# Walk forward model evaluation\n",
        "\n",
        "The below function evaluates the performance of our final model on the test set. When no model is passed to the function, it will run a naive forecast, which simply takes the current observation $t$ as the best guess estimate for $t_{+1}$. Despite its simple approach, the naive model performs robustly for most financial time series given such series often adhere to a random walk where each subsequent step has no memory of past values.\n",
        "\n",
        "We have chosen RMSE and MAPE as the performance metrics by which to compare our model versus the naive forecast. RMSE has the advantage of being directly interpretable as it is expressed in the same units as the variable being forecast. MAPE is unit-agnostic and expressed as a percentage, therefore allowing model comparison across different unit scales and domains.\n",
        "\n",
        "\n",
        "Our function logic follows an application often used in real-world scenarios - such as, for example, with weather data - whereby we forecast one-step ahead and once the ground truth label becomes available as we move forward in time, we then incorporate this additional data point and retrain our model. We do this iteratively until we exhaust the entire test set.\n",
        "\n",
        "Note, we do not retune our hyperparameters at each step as this would require excessive computational resources, but could choose to do so once we have a sufficient amount of new data available, for example once every calendar year's worth of additional data."
      ]
    },
    {
      "cell_type": "code",
      "execution_count": 37,
      "metadata": {
        "id": "dt2eVpTN50In"
      },
      "outputs": [],
      "source": [
        "def expanding_walk_forward_evaluation(df, model='naive', train_size=0.8):\n",
        "  \"\"\"\n",
        "  Performs an expanding walk-forward evaluation, where the model is trained\n",
        "  on an increasing portion of the input data and evaluated on the subsequent time step.\n",
        "  Note that the terms test and evaluation can be used interchangeably, as this function\n",
        "  can be applied to either depending on the data provided.\n",
        "\n",
        "  Parameters:\n",
        "      - df (pd.DataFrame): DataFrame containing time series data as a supervised learning problem.\n",
        "          Can have any number of X features, but y response vector must be 'y'.\n",
        "      - model: Predictive model to be trained and evaluated. Must have .fit() and .predict() methods.\n",
        "          If no model is specified, it will use a naive forecast taking the value of the most recent\n",
        "          timestamp as the forecast value for t+1.\n",
        "      - train_size (float): Fraction of data to use as the initial (unexpanded) training set.\n",
        "\n",
        "  Returns:\n",
        "      - y_trues (Series): Ground truth labels for the test set.\n",
        "      - y_preds (Series): Predicted values for the test set.\n",
        "      - residuals (Series): Residuals as ground truth minus predicted values.\n",
        "      - mape (float): Mean Absolute Percentage Error between ground truth and predicted values.\n",
        "  \"\"\"\n",
        "\n",
        "  # create a copy of dataframe to avoid override\n",
        "  df = df.copy()\n",
        "\n",
        "  # define X feature matrix and y response vector\n",
        "  X = df.drop(columns='y')\n",
        "  y = df['y']\n",
        "\n",
        "  # index used to mark boundary between expanding training set and t+1 test set\n",
        "  idx = int(len(df) * train_size)\n",
        "\n",
        "  # ground truth labels and empty list to collect predicted values\n",
        "  y_trues = y.iloc[idx:]\n",
        "  y_preds = pd.Series(index=y_trues.index, dtype=np.float32)\n",
        "\n",
        "  # naive forecast\n",
        "  if model == 'naive':\n",
        "    y_preds.loc[y_trues.index] = y.iloc[idx-1:-1].values\n",
        "\n",
        "  # model specific forecast\n",
        "  else:\n",
        "    # perform walk forward evaluation\n",
        "    for step in trange(len(df[idx:])):\n",
        "\n",
        "      # training set for this fold\n",
        "      X_train = X[:idx]\n",
        "      y_train = y[:idx]\n",
        "\n",
        "      # test set for this fold\n",
        "      X_test = X.iloc[[idx]]\n",
        "\n",
        "      # fit model using training set and use trained model to predict t+1\n",
        "      model.fit(X_train, y_train)\n",
        "      y_pred = model.predict(X_test)[0]\n",
        "      y_preds[y_trues.index[step]] = y_pred\n",
        "\n",
        "      # increment train-test boundary index\n",
        "      idx += 1\n",
        "\n",
        "  # compute residual and performance metrics\n",
        "  residuals = y_trues - y_preds\n",
        "  rmse = mean_squared_error(y_trues, y_preds, squared=False)\n",
        "  mae = mean_absolute_error(y_trues, y_preds)\n",
        "  mape = mean_absolute_percentage_error(y_trues, y_preds)\n",
        "\n",
        "  return y_trues, y_preds, residuals, mape, rmse"
      ]
    },
    {
      "cell_type": "markdown",
      "metadata": {
        "id": "mfDRXwXWm3M4"
      },
      "source": [
        "## Naive forecast performance on test set"
      ]
    },
    {
      "cell_type": "code",
      "execution_count": 38,
      "metadata": {
        "id": "Y1JXcary1eDA"
      },
      "outputs": [],
      "source": [
        "naive_forecast = expanding_walk_forward_evaluation(\n",
        "    df = main_df,\n",
        "    train_size = len(train_df) / len(main_df),\n",
        ")"
      ]
    },
    {
      "cell_type": "code",
      "execution_count": 39,
      "metadata": {
        "id": "HFbI1e9D5E6s",
        "colab": {
          "base_uri": "https://localhost:8080/"
        },
        "outputId": "974cf917-153a-44de-d057-b1c3b2a4a1f2"
      },
      "outputs": [
        {
          "output_type": "stream",
          "name": "stdout",
          "text": [
            "\n",
            "  BENCHMARK METRICS\n",
            "  Using a naive forecast\n",
            "  - - -\n",
            "  RMSE: 34619.003\n",
            "  MAPE: 0.562\n",
            "  \n"
          ]
        }
      ],
      "source": [
        "print(f\"\"\"\n",
        "  BENCHMARK METRICS\n",
        "  Using a naive forecast\n",
        "  - - -\n",
        "  RMSE: {naive_forecast[-1]:.3f}\n",
        "  MAPE: {naive_forecast[-2]:.3f}\n",
        "  \"\"\"\n",
        "  )"
      ]
    },
    {
      "cell_type": "markdown",
      "metadata": {
        "id": "KRaN5d9by-rY"
      },
      "source": [
        "## Tuned model performance on test set\n",
        "\n",
        "The final results on the holdout test set confirm once again that it is challenging to outperform a simple naive forecast. Our RMSE score is basically on par, however our MAPE is significantly better showing an improvement of 8%."
      ]
    },
    {
      "cell_type": "code",
      "execution_count": 40,
      "metadata": {
        "id": "YD35IKAlS-Gn",
        "colab": {
          "base_uri": "https://localhost:8080/"
        },
        "outputId": "8429b730-c084-4f78-befe-7785459cdc7a"
      },
      "outputs": [
        {
          "output_type": "stream",
          "name": "stderr",
          "text": [
            "100%|██████████| 106/106 [02:37<00:00,  1.49s/it]\n"
          ]
        }
      ],
      "source": [
        "xgb_forecast = expanding_walk_forward_evaluation(\n",
        "    df = main_df,\n",
        "    model = estimator,\n",
        "    train_size = len(train_df) / len(main_df),\n",
        ")"
      ]
    },
    {
      "cell_type": "code",
      "source": [
        "print(f\"\"\"\n",
        "  PERFORMANCE METRICS\n",
        "  Using XGBoost Regressor\n",
        "  - - -\n",
        "  RMSE: {xgb_forecast[-1]:.3f}\n",
        "  MAPE: {xgb_forecast[-2]:.3f}\n",
        "  \"\"\"\n",
        "  )"
      ],
      "metadata": {
        "colab": {
          "base_uri": "https://localhost:8080/"
        },
        "id": "HEQcY4VI36oB",
        "outputId": "02af01d8-b89f-4a5e-b003-d47e95f6ec0c"
      },
      "execution_count": 41,
      "outputs": [
        {
          "output_type": "stream",
          "name": "stdout",
          "text": [
            "\n",
            "  PERFORMANCE METRICS\n",
            "  Using XGBoost Regressor\n",
            "  - - -\n",
            "  RMSE: 34709.860\n",
            "  MAPE: 0.482\n",
            "  \n"
          ]
        }
      ]
    },
    {
      "cell_type": "markdown",
      "metadata": {
        "id": "L-kebAjg5ceW"
      },
      "source": [
        "## Residuals analysis\n",
        "\n",
        "An important, yet often neglected, part of model evaluation is analysing the residuals. The residuals are the individual differences between the observed (true) values and predicted values. The aim is to inspect whether our model has managed to capture all signal from the data. In order to establish whether this is the case, we would commonly look to satisfy these four criteria:\n",
        "- residuals have a mean of zero\n",
        "- residuals have a constant variance (i.e. homoskedastic and time invariant)\n",
        "- residuals follow a Gaussian distribution\n",
        "- residuals are not autocorrelated"
      ]
    },
    {
      "cell_type": "code",
      "execution_count": 42,
      "metadata": {
        "id": "BsNz7dOU5cej"
      },
      "outputs": [],
      "source": [
        "y_trues, y_preds, residuals, mape, rmse = xgb_forecast"
      ]
    },
    {
      "cell_type": "markdown",
      "metadata": {
        "id": "SSvOeK9NGFEQ"
      },
      "source": [
        "First, we visually inspect whether our residuals appear to be a white noise series with a mean of zero and constant variance. This indeed appears to be the case, although perhaps there is minimal downward drift over time."
      ]
    },
    {
      "cell_type": "code",
      "execution_count": 43,
      "metadata": {
        "id": "0jhLy5xl-OpX",
        "colab": {
          "base_uri": "https://localhost:8080/",
          "height": 455
        },
        "outputId": "d1553a27-c162-4a4d-d71f-84a1ad109884"
      },
      "outputs": [
        {
          "output_type": "display_data",
          "data": {
            "text/plain": [
              "<Figure size 640x480 with 1 Axes>"
            ],
            "image/png": "[encoded data removed]"
          },
          "metadata": {}
        }
      ],
      "source": [
        "residuals.plot()\n",
        "plt.title(f'Residual plot')\n",
        "plt.show()"
      ]
    },
    {
      "cell_type": "markdown",
      "metadata": {
        "id": "fwpod0JTHulJ"
      },
      "source": [
        "Constant mean and variance imply that our residuals should be stationary and we can check this by applying an Augmented Dicky-Fuller test, which confirms this to be true."
      ]
    },
    {
      "cell_type": "code",
      "execution_count": 44,
      "metadata": {
        "id": "9yIU03bkIRxQ",
        "colab": {
          "base_uri": "https://localhost:8080/"
        },
        "outputId": "87bb47ca-f9d0-4b65-aac2-2d9012ed5069"
      },
      "outputs": [
        {
          "output_type": "stream",
          "name": "stdout",
          "text": [
            "ADF Test Statistic:\t-7.765775\n",
            "p-value:\t\t0.000000\n",
            "- - -\n",
            "Reject the null hypothesis (H0) \n",
            "The residuals time series is stationary\n"
          ]
        }
      ],
      "source": [
        "# perform adf test\n",
        "result = sm.tsa.adfuller(residuals)\n",
        "\n",
        "# extract and print the test statistic and p-value\n",
        "adf_statistic = result[0]\n",
        "p_value = result[1]\n",
        "\n",
        "print(f'ADF Test Statistic:\\t{adf_statistic:.6f}')\n",
        "print(f'p-value:\\t\\t{p_value:.6f}')\n",
        "print('- - -')\n",
        "\n",
        "# interpret the results\n",
        "if p_value <= 0.05:\n",
        "    print('Reject the null hypothesis (H0) \\nThe residuals time series is stationary')\n",
        "else:\n",
        "    print('Fail to reject the null hypothesis (H0) \\nThe residuals time series is non-stationary')"
      ]
    },
    {
      "cell_type": "markdown",
      "metadata": {
        "id": "jhTcq0oIGOmx"
      },
      "source": [
        "Next, we perform another visual check to see whether our residuals were drawn from a normal distribution. This looks to be the case with a mean close to zero and a familiar bell-shaped curve, albeit perhaps showing a slight negative skew and positive kurtosis (leptokurtic)."
      ]
    },
    {
      "cell_type": "code",
      "execution_count": 45,
      "metadata": {
        "id": "QEWnglsTFSWS",
        "colab": {
          "base_uri": "https://localhost:8080/",
          "height": 491
        },
        "outputId": "1d610bc4-df45-4186-ee78-ca536c474b66"
      },
      "outputs": [
        {
          "output_type": "display_data",
          "data": {
            "text/plain": [
              "<Figure size 640x480 with 1 Axes>"
            ],
            "image/png": "[encoded data removed]"
          },
          "metadata": {}
        }
      ],
      "source": [
        "residuals.plot(kind='density')\n",
        "plt.title(f'Residual density plot\\nmean: {int(residuals.mean())}')\n",
        "plt.ticklabel_format(style='sci', axis='x', scilimits=(0,0))\n",
        "plt.show()"
      ]
    },
    {
      "cell_type": "markdown",
      "source": [
        "A more statistically robust approach to check whether our residuals meet the assumption of normality is through either a Jarque-Bera test or Shapiro-Wilk test. The latter is known to perform better for smaller sample sizes, which is relevant to our case. We run both tests hereunder and despite our visual checks, it appears that the residuals are not normally distributed which suggests that our model has not extracted all signal from the data."
      ],
      "metadata": {
        "id": "ETZtPRcVB_Ql"
      }
    },
    {
      "cell_type": "code",
      "source": [
        "# perform jarque-bera test of normality on residuals\n",
        "statistic, p_value = jarque_bera(residuals)\n",
        "\n",
        "print(f'Jarque-Bera Test Statistic:\\t{statistic:.6f}')\n",
        "print(f'p-value:\\t\\t\\t{p_value:.6f}')\n",
        "print('- - -')\n",
        "\n",
        "# interpret the results\n",
        "if p_value <= 0.05:\n",
        "    print('Reject the null hypothesis (H0) \\nThe residuals time series was not drawn from a normal distribution')\n",
        "else:\n",
        "    print('Fail to reject the null hypothesis (H0) \\nThe residuals time series was drawn from a normal distribution')"
      ],
      "metadata": {
        "colab": {
          "base_uri": "https://localhost:8080/"
        },
        "id": "YppgL49CDMib",
        "outputId": "58cc4b19-c7ff-48db-830d-61414f30b910"
      },
      "execution_count": 46,
      "outputs": [
        {
          "output_type": "stream",
          "name": "stdout",
          "text": [
            "Jarque-Bera Test Statistic:\t24.138898\n",
            "p-value:\t\t\t0.000006\n",
            "- - -\n",
            "Reject the null hypothesis (H0) \n",
            "The residuals time series was not drawn from a normal distribution\n"
          ]
        }
      ]
    },
    {
      "cell_type": "code",
      "source": [
        "# perform shapiro-wilk test of normality on residuals\n",
        "statistic, p_value = shapiro(residuals)\n",
        "\n",
        "print(f'Shapiro-Wilk Test Statistic:\\t{statistic:.6f}')\n",
        "print(f'p-value:\\t\\t\\t{p_value:.6f}')\n",
        "print('- - -')\n",
        "\n",
        "# interpret the results\n",
        "if p_value <= 0.05:\n",
        "    print('Reject the null hypothesis (H0) \\nThe residuals time series was not drawn from a normal distribution')\n",
        "else:\n",
        "    print('Fail to reject the null hypothesis (H0) \\nThe residuals time series was drawn from a normal distribution')"
      ],
      "metadata": {
        "id": "Myu3gbBw_DEn",
        "colab": {
          "base_uri": "https://localhost:8080/"
        },
        "outputId": "367f57ba-7982-405d-ab30-70f5bfa3255e"
      },
      "execution_count": 47,
      "outputs": [
        {
          "output_type": "stream",
          "name": "stdout",
          "text": [
            "Shapiro-Wilk Test Statistic:\t0.957658\n",
            "p-value:\t\t\t0.001903\n",
            "- - -\n",
            "Reject the null hypothesis (H0) \n",
            "The residuals time series was not drawn from a normal distribution\n"
          ]
        }
      ]
    },
    {
      "cell_type": "markdown",
      "metadata": {
        "id": "k8IsINgIG341"
      },
      "source": [
        "Finally, we check whether our residuals still contain any signal in the form of autocorrelation. The first spike outside the 95% confidence interval (light blue band) is at $t_{-0}$ and is the correlation of a residual with itself, which is always 100%. Beyond that, we observe potentially statistically significant autocorrelation at $t_{-1}$ and $t_{-13}$. However, it is worth noting that we should expect to see one or two false positives given the default $\\alpha$ threshold of 0.05. Additionally, the values are only marginally beyond the confidence band and therefore not likely to be meaningful."
      ]
    },
    {
      "cell_type": "code",
      "execution_count": 48,
      "metadata": {
        "id": "Xkt47Ua6FlIt",
        "colab": {
          "base_uri": "https://localhost:8080/",
          "height": 452
        },
        "outputId": "5222254a-cf18-499e-e104-797019e4cf13"
      },
      "outputs": [
        {
          "output_type": "display_data",
          "data": {
            "text/plain": [
              "<Figure size 640x480 with 1 Axes>"
            ],
            "image/png": "[encoded data removed]"
          },
          "metadata": {}
        }
      ],
      "source": [
        "sm.graphics.tsa.plot_acf(residuals, lags=20)\n",
        "plt.show()"
      ]
    },
    {
      "cell_type": "markdown",
      "metadata": {
        "id": "-Mq8mK1W9QCN"
      },
      "source": [
        "# Results\n",
        "\n",
        "- Our gradient boosted decision tree model managed to outperform the benchmark naive forecast by 8% when assessed for its MAPE. It performed on par when assessed for its RMSE.\n",
        "\n",
        "- By far the most informative independent variable when predicting next week's managed money net position is the position at the current observation. This is consistent with why the naive forecast performs strongly for this problem.\n",
        "\n",
        "- Our error analysis showed that the residuals are not normally distributed and therefore our model has not been able to capture all signal from the data.\n"
      ]
    },
    {
      "cell_type": "markdown",
      "metadata": {
        "id": "jeDKr6dr9Sh8"
      },
      "source": [
        "# Next steps\n",
        "\n",
        "- In order to improve our model performance, the first step is always to see whether we can get more data. This is in fact possible by performing this same analysis on other agricultural commodities and then concatenating the datasets. In other words, if we perform this same analysis on soybeans, for example, we can then use that dataset and vertically append it to our existing corn-centric dataset. We would need to account for any commodity specific variables, such as some of the ratios, and removing these would allow us to align the data.\n",
        "\n",
        "- The next step to improve model performance would be further feature engineering and/or incorporating additional features that may be informative of managed money behaviour, such as interest rates, currency exchange rates, crude oil prices, weather data for key agricultural regions, etc.\n",
        "\n",
        "- Outperforming a benchmark is an appropriate theoretical first step, however a potential next step would be to integrate the managed money net position forecasts into a trading strategy and assess whether doing so generates additional profitability."
      ]
    },
    {
      "cell_type": "markdown",
      "metadata": {
        "id": "O7d11OvNPVnB"
      },
      "source": [
        "# END"
      ]
    },
    {
      "cell_type": "code",
      "execution_count": 49,
      "metadata": {
        "id": "LGXQnSBIE9Cj",
        "colab": {
          "base_uri": "https://localhost:8080/"
        },
        "outputId": "8e0c30c9-0ebe-4de3-cea7-6676cafa0923"
      },
      "outputs": [
        {
          "output_type": "stream",
          "name": "stdout",
          "text": [
            "Python implementation: CPython\n",
            "Python version       : 3.10.12\n",
            "IPython version      : 7.34.0\n",
            "\n",
            "pandas     : 1.5.3\n",
            "statsmodels: 0.14.1\n",
            "xgboost    : 2.0.3\n",
            "matplotlib : 3.7.1\n",
            "optuna     : 3.5.0\n",
            "seaborn    : 0.13.1\n",
            "numpy      : 1.23.5\n",
            "cot_reports: 0.1.3\n",
            "yfinance   : 0.2.36\n",
            "\n"
          ]
        }
      ],
      "source": [
        "# dependencies\n",
        "%load_ext watermark\n",
        "%watermark --python --iversions"
      ]
    },
    {
      "cell_type": "markdown",
      "source": [
        "**Author: Vladimir Zinkovski**\n",
        "\n",
        "Send an email: *vladimir.zinkovski@gmail.com*\n",
        "\n",
        "Or connect with me on: [LinkedIn](https://www.linkedin.com/in/vladimir-zinkovski/)"
      ],
      "metadata": {
        "id": "UhF_kb0unUL_"
      }
    }
  ],
  "metadata": {
    "colab": {
      "toc_visible": true,
      "provenance": [],
      "mount_file_id": "1BhxFJ9f3I05i8-ggIH6G8QrpwlJoxlYb",
      "authorship_tag": "ABX9TyMmKuHk+qdgV73Y1myYbaUl",
      "include_colab_link": true
    },
    "kernelspec": {
      "display_name": "Python 3",
      "name": "python3"
    },
    "language_info": {
      "name": "python"
    }
  },
  "nbformat": 4,
  "nbformat_minor": 0
}