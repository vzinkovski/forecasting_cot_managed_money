{
  "cells": [
    {
      "cell_type": "markdown",
      "metadata": {
        "id": "view-in-github",
        "colab_type": "text"
      },
      "source": [
        "<a href=\"https://colab.research.google.com/github/vzinkovski/forecasting_cot_managed_money/blob/main/forecasting_cot_managed_money.ipynb\" target=\"_parent\"><img src=\"https://colab.research.google.com/assets/colab-badge.svg\" alt=\"Open In Colab\"/></a>"
      ]
    },
    {
      "cell_type": "markdown",
      "metadata": {
        "id": "CtM5VS1o-SCN"
      },
      "source": [
        "# Forecasting Commitment of Trader Managed Money Positions for Agricultural Commodities\n",
        "\n",
        "*Last updated: 22 Jan 2024*"
      ]
    },
    {
      "cell_type": "markdown",
      "metadata": {
        "id": "4-iLZTFAkApr"
      },
      "source": [
        "# Introduction\n",
        "\n",
        "Agricultural commodity futures prices are determined by many factors, however it is well accepted that the primary drivers are supply and demand fundamentals. Prior to expiration, commodity futures contracts enter a delivery period during which cash (i.e. physical) and futures markets will need to converge. Non-covergence is resolved through arbitrage.\n",
        "\n",
        "However, prior to the delivery period, futures markets do in fact reguarly disconnect from their underlying fundamentals. One powerful force which can influence the price of futures markets is speculative money.\n",
        "\n",
        "The Commodity Futures Trading Commission (CFTC) releases a weekly publication that shows the aggregate holdings of different participants in the U.S. futures markets. This publication is known as the Commitment of Traders (COT) report and released every Friday at 3:30PM Eastern time, showing data from the end of day Tuesday earlier in that same week. As such, the report is a lagging indicator, but nevertheless closely watched by all market participants.\n",
        "\n",
        "The CFTC releases four different versions of the COT report, all of which contain a breakdown of the open interest into long, short and spread positions across the different participants, but differ in terms of how a participant class is constituted. All reports, except the legacy report, are further broken down into two versions, one contains futures positions only, the other contains both futures and options positions combined.\n",
        "\n",
        "Given we are specifically interested in speculative money positioning in the agricultural futures markets, we can therefore consider either the supplemental report or the disaggregated report. The supplemental report covers 13 different agricultural markets, the disaggregated report covers over 150 different commodities across agriculture, energy and metals.\n",
        "\n",
        "In terms of market participant definitions, the supplemental report labels both hedge funds and proprietary traders under the umbrella term 'non-commercials'. The disaggregated report keeps these two groups seperate as 'managed money' and 'other reportables', respectively.\n",
        "\n",
        "The non-commercials and managed money positions are in fact highly correlated and being able to forecast what the position is for either of these two groups ahead of time can significantly help guide one's own trading strategy.\n",
        "\n",
        "In this project we will build a supervised machine learning model to forecast the disaggregated report's managed money combined futures and options net position for CME corn. Although the analysis is specific to corn, the code is easily adaptable to any other agricultural commodity covered by the COT."
      ]
    },
    {
      "cell_type": "markdown",
      "metadata": {
        "id": "JoKpmVoyiMwG"
      },
      "source": [
        "# Libraries"
      ]
    },
    {
      "cell_type": "code",
      "execution_count": 1,
      "metadata": {
        "id": "N38HJl8FseR1"
      },
      "outputs": [],
      "source": [
        "%%capture\n",
        "\n",
        "# install missing libraries\n",
        "!pip install cot_reports # funds positioning data\n",
        "!pip install optuna # bayesian optimisation for hyperparameter tuning\n",
        "!pip install watermark # record dependencies"
      ]
    },
    {
      "cell_type": "code",
      "execution_count": 2,
      "metadata": {
        "id": "JozjHxuaYpak"
      },
      "outputs": [],
      "source": [
        "# standard libraries\n",
        "import numpy as np\n",
        "import pandas as pd\n",
        "from scipy.stats import shapiro\n",
        "import statsmodels.api as sm\n",
        "\n",
        "# api libraries\n",
        "import cot_reports as cot\n",
        "import yfinance as yf\n",
        "\n",
        "# machine learning libraries\n",
        "import optuna\n",
        "from optuna.samplers import TPESampler\n",
        "import xgboost as xgb\n",
        "\n",
        "# visualisation libraries\n",
        "import matplotlib.pyplot as plt\n",
        "import seaborn as sns\n",
        "from xgboost import plot_importance\n",
        "\n",
        "# performance metrics\n",
        "from sklearn.metrics import mean_absolute_error, mean_absolute_percentage_error, mean_squared_error\n",
        "from sklearn.model_selection import cross_val_score, TimeSeriesSplit\n",
        "\n",
        "# utilities\n",
        "from functools import partial\n",
        "from tqdm import trange, tqdm"
      ]
    },
    {
      "cell_type": "code",
      "execution_count": 3,
      "metadata": {
        "id": "Nh31X7DnauRw"
      },
      "outputs": [],
      "source": [
        "# display\n",
        "pd.set_option('display.max_columns', None)\n",
        "pd.set_option('display.max_rows', 250)\n",
        "pd.set_option('display.width', None)\n",
        "pd.set_option('display.float_format', lambda x: '{:.2f}'.format(x))\n",
        "tqdm = partial(tqdm, position=0, leave=True)"
      ]
    },
    {
      "cell_type": "markdown",
      "metadata": {
        "id": "f2lREMchHh-K"
      },
      "source": [
        "# Commitment of Traders report"
      ]
    },
    {
      "cell_type": "markdown",
      "metadata": {
        "id": "mHO6KLfSEgCA"
      },
      "source": [
        "## Load data"
      ]
    },
    {
      "cell_type": "code",
      "execution_count": 4,
      "metadata": {
        "id": "9YUvVvroJN6M"
      },
      "outputs": [],
      "source": [
        "%%capture\n",
        "\n",
        "# download combined futures and options disaggregated report\n",
        "cot_report = cot.cot_all(cot_report_type='disaggregated_futopt')"
      ]
    },
    {
      "cell_type": "markdown",
      "metadata": {
        "id": "EYaHPLF9EuJL"
      },
      "source": [
        "## Preprocess data\n",
        "\n",
        "First we need to calculate the managed money net position by subtracting the shorts from the longs.\n",
        "\n",
        "Next, because our focus is on forecasting CME corn net positions, we will also need to consider other agricultural commodities which are cointegrated with corn. Specifically, we will use data for soybeans, SRW wheat and HRW wheat. This is not an exhaustive list, but rather a starting point.\n",
        "\n",
        "Cointegration can be thought of in two camps.\n",
        "\n",
        "On the supply side, soybeans, SRW wheat and HRW wheat compete with corn for planting acres. This is the order from most competitive to least, whereby soybeans and corn acres overlap the most (albeit often through crop rotation). Therefore, ceteris paribus, more corn plantings will result in lower corn prices, but also in lower soybean plantings and higher soybean prices. The same logic applies to wheat versus corn acres.\n",
        "\n",
        "On the demand side, corn and wheat are - to a certain degree - fungible as an animal feed. This is true mostly for low quality wheat, often a result of poor growing conditions. For example, and again holding all other things equal, if corn prices become very expensive, a feedlot may opt to increase the amount of wheat in their ration as a substitute for corn.\n",
        "\n",
        "In other words, cointegration serves to prevent prices of two commodities from diverging indefinitely."
      ]
    },
    {
      "cell_type": "code",
      "execution_count": 5,
      "metadata": {
        "id": "LHdn3dCi0l9X"
      },
      "outputs": [],
      "source": [
        "# calculate net managed money positions\n",
        "cot_report['M_Money_Positions_Net_Position'] = cot_report['M_Money_Positions_Long_All'] - cot_report['M_Money_Positions_Short_All']"
      ]
    },
    {
      "cell_type": "code",
      "execution_count": 6,
      "metadata": {
        "id": "R0cbcfv7vjXG"
      },
      "outputs": [],
      "source": [
        "# keep only managed money long and short positions\n",
        "cols_to_keep = [\n",
        "    'Market_and_Exchange_Names',\n",
        "    'Report_Date_as_YYYY-MM-DD',\n",
        "    'M_Money_Positions_Net_Position'\n",
        "]\n",
        "cot_report = cot_report[cols_to_keep]"
      ]
    },
    {
      "cell_type": "code",
      "execution_count": 7,
      "metadata": {
        "id": "mdtyp9iMum6E"
      },
      "outputs": [],
      "source": [
        "# filter dataframe down to cointegrated commodities only\n",
        "commodities_lst = [\n",
        "    'CORN - CHICAGO BOARD OF TRADE',\n",
        "    'SOYBEANS - CHICAGO BOARD OF TRADE',\n",
        "    'WHEAT - CHICAGO BOARD OF TRADE',\n",
        "    'WHEAT - KANSAS CITY BOARD OF TRADE',\n",
        "    'WHEAT-SRW - CHICAGO BOARD OF TRADE',\n",
        "    'WHEAT-HRW - CHICAGO BOARD OF TRADE',\n",
        "]\n",
        "cot_report = cot_report[cot_report['Market_and_Exchange_Names'].isin(commodities_lst)]"
      ]
    },
    {
      "cell_type": "code",
      "execution_count": 8,
      "metadata": {
        "id": "10gbdbc617Wv"
      },
      "outputs": [],
      "source": [
        "# ensure consistent labeling for srw and hrw contracts\n",
        "cot_report['Market_and_Exchange_Names'] = cot_report['Market_and_Exchange_Names'].replace({\n",
        "    'WHEAT - CHICAGO BOARD OF TRADE': 'WHEAT-SRW - CHICAGO BOARD OF TRADE',\n",
        "    'WHEAT - KANSAS CITY BOARD OF TRADE': 'WHEAT-HRW - CHICAGO BOARD OF TRADE',\n",
        "})"
      ]
    },
    {
      "cell_type": "code",
      "execution_count": 9,
      "metadata": {
        "id": "R7h-6Mw3wFC-"
      },
      "outputs": [],
      "source": [
        "# set report date column as a pandas datetimeindex\n",
        "cot_report['Report_Date_as_YYYY-MM-DD'] = pd.to_datetime(cot_report['Report_Date_as_YYYY-MM-DD'])\n",
        "cot_report = cot_report.sort_values(by='Report_Date_as_YYYY-MM-DD')\n",
        "cot_report.set_index('Report_Date_as_YYYY-MM-DD', inplace=True)"
      ]
    },
    {
      "cell_type": "code",
      "execution_count": 10,
      "metadata": {
        "id": "DFykRMo4AF7F"
      },
      "outputs": [],
      "source": [
        "# format dataframe from long to wide\n",
        "cot_report = cot_report.pivot(\n",
        "    columns='Market_and_Exchange_Names',\n",
        "    values='M_Money_Positions_Net_Position',\n",
        ").rename_axis(columns=None)"
      ]
    },
    {
      "cell_type": "code",
      "execution_count": 11,
      "metadata": {
        "id": "kVcs0f3b9Fnz",
        "colab": {
          "base_uri": "https://localhost:8080/"
        },
        "outputId": "845f02fa-16a1-408b-f622-3db80881379a"
      },
      "outputs": [
        {
          "output_type": "execute_result",
          "data": {
            "text/plain": [
              "CORN - CHICAGO BOARD OF TRADE         0\n",
              "SOYBEANS - CHICAGO BOARD OF TRADE     0\n",
              "WHEAT-HRW - CHICAGO BOARD OF TRADE    0\n",
              "WHEAT-SRW - CHICAGO BOARD OF TRADE    0\n",
              "dtype: int64"
            ]
          },
          "metadata": {},
          "execution_count": 11
        }
      ],
      "source": [
        "# check missing values\n",
        "cot_report.isna().sum()"
      ]
    },
    {
      "cell_type": "code",
      "execution_count": 12,
      "metadata": {
        "id": "2m9hqp-r9RKS",
        "colab": {
          "base_uri": "https://localhost:8080/",
          "height": 317
        },
        "outputId": "6b2d906e-4973-4f43-bc70-ed2e33cdf56d"
      },
      "outputs": [
        {
          "output_type": "execute_result",
          "data": {
            "text/plain": [
              "       CORN - CHICAGO BOARD OF TRADE  SOYBEANS - CHICAGO BOARD OF TRADE  \\\n",
              "count                         919.00                             919.00   \n",
              "mean                        94805.61                           70672.34   \n",
              "std                        169355.16                           81862.67   \n",
              "min                       -322215.00                         -168835.00   \n",
              "25%                        -52157.50                           11046.00   \n",
              "50%                        107600.00                           78989.00   \n",
              "75%                        230260.00                          129155.00   \n",
              "max                        429189.00                          253889.00   \n",
              "\n",
              "       WHEAT-HRW - CHICAGO BOARD OF TRADE  WHEAT-SRW - CHICAGO BOARD OF TRADE  \n",
              "count                              919.00                              919.00  \n",
              "mean                             14034.08                           -18689.28  \n",
              "std                              24396.50                            47979.15  \n",
              "min                             -58866.00                          -162327.00  \n",
              "25%                               1399.00                           -49815.50  \n",
              "50%                              13050.00                            -9815.00  \n",
              "75%                              32197.50                            17033.00  \n",
              "max                              73111.00                            80827.00  "
            ],
            "text/html": [
              "\n",
              "  <div id=\"df-3c2f4ea7-da2b-468f-a186-fe725dcfd9f9\" class=\"colab-df-container\">\n",
              "    <div>\n",
              "<style scoped>\n",
              "    .dataframe tbody tr th:only-of-type {\n",
              "        vertical-align: middle;\n",
              "    }\n",
              "\n",
              "    .dataframe tbody tr th {\n",
              "        vertical-align: top;\n",
              "    }\n",
              "\n",
              "    .dataframe thead th {\n",
              "        text-align: right;\n",
              "    }\n",
              "</style>\n",
              "<table border=\"1\" class=\"dataframe\">\n",
              "  <thead>\n",
              "    <tr style=\"text-align: right;\">\n",
              "      <th></th>\n",
              "      <th>CORN - CHICAGO BOARD OF TRADE</th>\n",
              "      <th>SOYBEANS - CHICAGO BOARD OF TRADE</th>\n",
              "      <th>WHEAT-HRW - CHICAGO BOARD OF TRADE</th>\n",
              "      <th>WHEAT-SRW - CHICAGO BOARD OF TRADE</th>\n",
              "    </tr>\n",
              "  </thead>\n",
              "  <tbody>\n",
              "    <tr>\n",
              "      <th>count</th>\n",
              "      <td>919.00</td>\n",
              "      <td>919.00</td>\n",
              "      <td>919.00</td>\n",
              "      <td>919.00</td>\n",
              "    </tr>\n",
              "    <tr>\n",
              "      <th>mean</th>\n",
              "      <td>94805.61</td>\n",
              "      <td>70672.34</td>\n",
              "      <td>14034.08</td>\n",
              "      <td>-18689.28</td>\n",
              "    </tr>\n",
              "    <tr>\n",
              "      <th>std</th>\n",
              "      <td>169355.16</td>\n",
              "      <td>81862.67</td>\n",
              "      <td>24396.50</td>\n",
              "      <td>47979.15</td>\n",
              "    </tr>\n",
              "    <tr>\n",
              "      <th>min</th>\n",
              "      <td>-322215.00</td>\n",
              "      <td>-168835.00</td>\n",
              "      <td>-58866.00</td>\n",
              "      <td>-162327.00</td>\n",
              "    </tr>\n",
              "    <tr>\n",
              "      <th>25%</th>\n",
              "      <td>-52157.50</td>\n",
              "      <td>11046.00</td>\n",
              "      <td>1399.00</td>\n",
              "      <td>-49815.50</td>\n",
              "    </tr>\n",
              "    <tr>\n",
              "      <th>50%</th>\n",
              "      <td>107600.00</td>\n",
              "      <td>78989.00</td>\n",
              "      <td>13050.00</td>\n",
              "      <td>-9815.00</td>\n",
              "    </tr>\n",
              "    <tr>\n",
              "      <th>75%</th>\n",
              "      <td>230260.00</td>\n",
              "      <td>129155.00</td>\n",
              "      <td>32197.50</td>\n",
              "      <td>17033.00</td>\n",
              "    </tr>\n",
              "    <tr>\n",
              "      <th>max</th>\n",
              "      <td>429189.00</td>\n",
              "      <td>253889.00</td>\n",
              "      <td>73111.00</td>\n",
              "      <td>80827.00</td>\n",
              "    </tr>\n",
              "  </tbody>\n",
              "</table>\n",
              "</div>\n",
              "    <div class=\"colab-df-buttons\">\n",
              "\n",
              "  <div class=\"colab-df-container\">\n",
              "    <button class=\"colab-df-convert\" onclick=\"convertToInteractive('df-3c2f4ea7-da2b-468f-a186-fe725dcfd9f9')\"\n",
              "            title=\"Convert this dataframe to an interactive table.\"\n",
              "            style=\"display:none;\">\n",
              "\n",
              "  <svg xmlns=\"http://www.w3.org/2000/svg\" height=\"24px\" viewBox=\"0 -960 960 960\">\n",
              "    <path d=\"M120-120v-720h720v720H120Zm60-500h600v-160H180v160Zm220 220h160v-160H400v160Zm0 220h160v-160H400v160ZM180-400h160v-160H180v160Zm440 0h160v-160H620v160ZM180-180h160v-160H180v160Zm440 0h160v-160H620v160Z\"/>\n",
              "  </svg>\n",
              "    </button>\n",
              "\n",
              "  <style>\n",
              "    .colab-df-container {\n",
              "      display:flex;\n",
              "      gap: 12px;\n",
              "    }\n",
              "\n",
              "    .colab-df-convert {\n",
              "      background-color: #E8F0FE;\n",
              "      border: none;\n",
              "      border-radius: 50%;\n",
              "      cursor: pointer;\n",
              "      display: none;\n",
              "      fill: #1967D2;\n",
              "      height: 32px;\n",
              "      padding: 0 0 0 0;\n",
              "      width: 32px;\n",
              "    }\n",
              "\n",
              "    .colab-df-convert:hover {\n",
              "      background-color: #E2EBFA;\n",
              "      box-shadow: 0px 1px 2px rgba(60, 64, 67, 0.3), 0px 1px 3px 1px rgba(60, 64, 67, 0.15);\n",
              "      fill: #174EA6;\n",
              "    }\n",
              "\n",
              "    .colab-df-buttons div {\n",
              "      margin-bottom: 4px;\n",
              "    }\n",
              "\n",
              "    [theme=dark] .colab-df-convert {\n",
              "      background-color: #3B4455;\n",
              "      fill: #D2E3FC;\n",
              "    }\n",
              "\n",
              "    [theme=dark] .colab-df-convert:hover {\n",
              "      background-color: #434B5C;\n",
              "      box-shadow: 0px 1px 3px 1px rgba(0, 0, 0, 0.15);\n",
              "      filter: drop-shadow(0px 1px 2px rgba(0, 0, 0, 0.3));\n",
              "      fill: #FFFFFF;\n",
              "    }\n",
              "  </style>\n",
              "\n",
              "    <script>\n",
              "      const buttonEl =\n",
              "        document.querySelector('#df-3c2f4ea7-da2b-468f-a186-fe725dcfd9f9 button.colab-df-convert');\n",
              "      buttonEl.style.display =\n",
              "        google.colab.kernel.accessAllowed ? 'block' : 'none';\n",
              "\n",
              "      async function convertToInteractive(key) {\n",
              "        const element = document.querySelector('#df-3c2f4ea7-da2b-468f-a186-fe725dcfd9f9');\n",
              "        const dataTable =\n",
              "          await google.colab.kernel.invokeFunction('convertToInteractive',\n",
              "                                                    [key], {});\n",
              "        if (!dataTable) return;\n",
              "\n",
              "        const docLinkHtml = 'Like what you see? Visit the ' +\n",
              "          '<a target=\"_blank\" href=https://colab.research.google.com/notebooks/data_table.ipynb>data table notebook</a>'\n",
              "          + ' to learn more about interactive tables.';\n",
              "        element.innerHTML = '';\n",
              "        dataTable['output_type'] = 'display_data';\n",
              "        await google.colab.output.renderOutput(dataTable, element);\n",
              "        const docLink = document.createElement('div');\n",
              "        docLink.innerHTML = docLinkHtml;\n",
              "        element.appendChild(docLink);\n",
              "      }\n",
              "    </script>\n",
              "  </div>\n",
              "\n",
              "\n",
              "<div id=\"df-af1ca915-92bc-4115-a8b1-f232929a10a0\">\n",
              "  <button class=\"colab-df-quickchart\" onclick=\"quickchart('df-af1ca915-92bc-4115-a8b1-f232929a10a0')\"\n",
              "            title=\"Suggest charts\"\n",
              "            style=\"display:none;\">\n",
              "\n",
              "<svg xmlns=\"http://www.w3.org/2000/svg\" height=\"24px\"viewBox=\"0 0 24 24\"\n",
              "     width=\"24px\">\n",
              "    <g>\n",
              "        <path d=\"M19 3H5c-1.1 0-2 .9-2 2v14c0 1.1.9 2 2 2h14c1.1 0 2-.9 2-2V5c0-1.1-.9-2-2-2zM9 17H7v-7h2v7zm4 0h-2V7h2v10zm4 0h-2v-4h2v4z\"/>\n",
              "    </g>\n",
              "</svg>\n",
              "  </button>\n",
              "\n",
              "<style>\n",
              "  .colab-df-quickchart {\n",
              "      --bg-color: #E8F0FE;\n",
              "      --fill-color: #1967D2;\n",
              "      --hover-bg-color: #E2EBFA;\n",
              "      --hover-fill-color: #174EA6;\n",
              "      --disabled-fill-color: #AAA;\n",
              "      --disabled-bg-color: #DDD;\n",
              "  }\n",
              "\n",
              "  [theme=dark] .colab-df-quickchart {\n",
              "      --bg-color: #3B4455;\n",
              "      --fill-color: #D2E3FC;\n",
              "      --hover-bg-color: #434B5C;\n",
              "      --hover-fill-color: #FFFFFF;\n",
              "      --disabled-bg-color: #3B4455;\n",
              "      --disabled-fill-color: #666;\n",
              "  }\n",
              "\n",
              "  .colab-df-quickchart {\n",
              "    background-color: var(--bg-color);\n",
              "    border: none;\n",
              "    border-radius: 50%;\n",
              "    cursor: pointer;\n",
              "    display: none;\n",
              "    fill: var(--fill-color);\n",
              "    height: 32px;\n",
              "    padding: 0;\n",
              "    width: 32px;\n",
              "  }\n",
              "\n",
              "  .colab-df-quickchart:hover {\n",
              "    background-color: var(--hover-bg-color);\n",
              "    box-shadow: 0 1px 2px rgba(60, 64, 67, 0.3), 0 1px 3px 1px rgba(60, 64, 67, 0.15);\n",
              "    fill: var(--button-hover-fill-color);\n",
              "  }\n",
              "\n",
              "  .colab-df-quickchart-complete:disabled,\n",
              "  .colab-df-quickchart-complete:disabled:hover {\n",
              "    background-color: var(--disabled-bg-color);\n",
              "    fill: var(--disabled-fill-color);\n",
              "    box-shadow: none;\n",
              "  }\n",
              "\n",
              "  .colab-df-spinner {\n",
              "    border: 2px solid var(--fill-color);\n",
              "    border-color: transparent;\n",
              "    border-bottom-color: var(--fill-color);\n",
              "    animation:\n",
              "      spin 1s steps(1) infinite;\n",
              "  }\n",
              "\n",
              "  @keyframes spin {\n",
              "    0% {\n",
              "      border-color: transparent;\n",
              "      border-bottom-color: var(--fill-color);\n",
              "      border-left-color: var(--fill-color);\n",
              "    }\n",
              "    20% {\n",
              "      border-color: transparent;\n",
              "      border-left-color: var(--fill-color);\n",
              "      border-top-color: var(--fill-color);\n",
              "    }\n",
              "    30% {\n",
              "      border-color: transparent;\n",
              "      border-left-color: var(--fill-color);\n",
              "      border-top-color: var(--fill-color);\n",
              "      border-right-color: var(--fill-color);\n",
              "    }\n",
              "    40% {\n",
              "      border-color: transparent;\n",
              "      border-right-color: var(--fill-color);\n",
              "      border-top-color: var(--fill-color);\n",
              "    }\n",
              "    60% {\n",
              "      border-color: transparent;\n",
              "      border-right-color: var(--fill-color);\n",
              "    }\n",
              "    80% {\n",
              "      border-color: transparent;\n",
              "      border-right-color: var(--fill-color);\n",
              "      border-bottom-color: var(--fill-color);\n",
              "    }\n",
              "    90% {\n",
              "      border-color: transparent;\n",
              "      border-bottom-color: var(--fill-color);\n",
              "    }\n",
              "  }\n",
              "</style>\n",
              "\n",
              "  <script>\n",
              "    async function quickchart(key) {\n",
              "      const quickchartButtonEl =\n",
              "        document.querySelector('#' + key + ' button');\n",
              "      quickchartButtonEl.disabled = true;  // To prevent multiple clicks.\n",
              "      quickchartButtonEl.classList.add('colab-df-spinner');\n",
              "      try {\n",
              "        const charts = await google.colab.kernel.invokeFunction(\n",
              "            'suggestCharts', [key], {});\n",
              "      } catch (error) {\n",
              "        console.error('Error during call to suggestCharts:', error);\n",
              "      }\n",
              "      quickchartButtonEl.classList.remove('colab-df-spinner');\n",
              "      quickchartButtonEl.classList.add('colab-df-quickchart-complete');\n",
              "    }\n",
              "    (() => {\n",
              "      let quickchartButtonEl =\n",
              "        document.querySelector('#df-af1ca915-92bc-4115-a8b1-f232929a10a0 button');\n",
              "      quickchartButtonEl.style.display =\n",
              "        google.colab.kernel.accessAllowed ? 'block' : 'none';\n",
              "    })();\n",
              "  </script>\n",
              "</div>\n",
              "\n",
              "    </div>\n",
              "  </div>\n"
            ]
          },
          "metadata": {},
          "execution_count": 12
        }
      ],
      "source": [
        "# check outliers\n",
        "cot_report.describe()"
      ]
    },
    {
      "cell_type": "code",
      "execution_count": 13,
      "metadata": {
        "id": "0b0hQQLlDu77",
        "colab": {
          "base_uri": "https://localhost:8080/"
        },
        "outputId": "a440db37-a81c-4a7a-9b4a-170fc2fa4a1b"
      },
      "outputs": [
        {
          "output_type": "execute_result",
          "data": {
            "text/plain": [
              "0"
            ]
          },
          "metadata": {},
          "execution_count": 13
        }
      ],
      "source": [
        "# check duplicate dates\n",
        "cot_report.duplicated().sum()"
      ]
    },
    {
      "cell_type": "markdown",
      "metadata": {
        "id": "wFBdw7lLHuqI"
      },
      "source": [
        "# Yahoo! Finance price data\n",
        "\n",
        "Speculative money continually moves between asset classes in search of the highest risk-adjusted returns. Broadly speaking, in a low interest rate environment, equities tend to benefit. Whereas during periods of relatively higher interest rates, money flows into fixed income and commodities. Rightly or wrongly, commodities are perceived as an inflation hedge and thus as the Fed increases rates, we tend to observe an allocation of capital into commodities.\n",
        "\n",
        "On this basis, we incorporate price data for the S&P500 and the S&P GSCI. Mostly, with a few exceptions, these two time series show a negative correlation and therefore may provide us with some contain signal regarding when speculative money is flowing out of equities and into commodities, or vice-versa. The assumption is that such an event is akin to a rising tide in the commodities markets, lifting all boats, including the agricultural complex."
      ]
    },
    {
      "cell_type": "markdown",
      "metadata": {
        "id": "nuGu-dk3I18U"
      },
      "source": [
        "## Load data"
      ]
    },
    {
      "cell_type": "code",
      "execution_count": 14,
      "metadata": {
        "id": "yShP9MiOHp5o",
        "colab": {
          "base_uri": "https://localhost:8080/"
        },
        "outputId": "4e96221d-187f-41c3-e562-aca9354be665"
      },
      "outputs": [
        {
          "output_type": "stream",
          "name": "stderr",
          "text": [
            "[*********************100%%**********************]  2 of 2 completed\n"
          ]
        }
      ],
      "source": [
        "# download s&p gsci and s&p 500 price data\n",
        "price_data = yf.download(\n",
        "    ['^SPGSCI', '^GSPC'],\n",
        "    start=cot_report.index[0],\n",
        ")['Adj Close']"
      ]
    },
    {
      "cell_type": "markdown",
      "metadata": {
        "id": "nGoajezALUcH"
      },
      "source": [
        "## Preprocess data"
      ]
    },
    {
      "cell_type": "code",
      "execution_count": 15,
      "metadata": {
        "id": "xqCVIyL2Lhfw",
        "colab": {
          "base_uri": "https://localhost:8080/"
        },
        "outputId": "d5ef4c71-b47e-49ef-a572-c97e0255d0fa"
      },
      "outputs": [
        {
          "output_type": "execute_result",
          "data": {
            "text/plain": [
              "^GSPC      1\n",
              "^SPGSCI    0\n",
              "dtype: int64"
            ]
          },
          "metadata": {},
          "execution_count": 15
        }
      ],
      "source": [
        "# check missing values\n",
        "price_data.isna().sum()"
      ]
    },
    {
      "cell_type": "code",
      "execution_count": 16,
      "metadata": {
        "id": "U9AM2X64Lhfx",
        "colab": {
          "base_uri": "https://localhost:8080/",
          "height": 300
        },
        "outputId": "8024e21d-d8fc-4fa5-9866-db734a3cfb43"
      },
      "outputs": [
        {
          "output_type": "execute_result",
          "data": {
            "text/plain": [
              "        ^GSPC  ^SPGSCI\n",
              "count 4432.00  4433.00\n",
              "mean  2278.82   514.43\n",
              "std   1102.28   124.74\n",
              "min    676.53   228.24\n",
              "25%   1359.99   409.68\n",
              "50%   2020.11   501.96\n",
              "75%   2917.58   625.15\n",
              "max   4850.43   890.29"
            ],
            "text/html": [
              "\n",
              "  <div id=\"df-1d1e3f49-da60-4d4a-b3b0-d629e4bf2915\" class=\"colab-df-container\">\n",
              "    <div>\n",
              "<style scoped>\n",
              "    .dataframe tbody tr th:only-of-type {\n",
              "        vertical-align: middle;\n",
              "    }\n",
              "\n",
              "    .dataframe tbody tr th {\n",
              "        vertical-align: top;\n",
              "    }\n",
              "\n",
              "    .dataframe thead th {\n",
              "        text-align: right;\n",
              "    }\n",
              "</style>\n",
              "<table border=\"1\" class=\"dataframe\">\n",
              "  <thead>\n",
              "    <tr style=\"text-align: right;\">\n",
              "      <th></th>\n",
              "      <th>^GSPC</th>\n",
              "      <th>^SPGSCI</th>\n",
              "    </tr>\n",
              "  </thead>\n",
              "  <tbody>\n",
              "    <tr>\n",
              "      <th>count</th>\n",
              "      <td>4432.00</td>\n",
              "      <td>4433.00</td>\n",
              "    </tr>\n",
              "    <tr>\n",
              "      <th>mean</th>\n",
              "      <td>2278.82</td>\n",
              "      <td>514.43</td>\n",
              "    </tr>\n",
              "    <tr>\n",
              "      <th>std</th>\n",
              "      <td>1102.28</td>\n",
              "      <td>124.74</td>\n",
              "    </tr>\n",
              "    <tr>\n",
              "      <th>min</th>\n",
              "      <td>676.53</td>\n",
              "      <td>228.24</td>\n",
              "    </tr>\n",
              "    <tr>\n",
              "      <th>25%</th>\n",
              "      <td>1359.99</td>\n",
              "      <td>409.68</td>\n",
              "    </tr>\n",
              "    <tr>\n",
              "      <th>50%</th>\n",
              "      <td>2020.11</td>\n",
              "      <td>501.96</td>\n",
              "    </tr>\n",
              "    <tr>\n",
              "      <th>75%</th>\n",
              "      <td>2917.58</td>\n",
              "      <td>625.15</td>\n",
              "    </tr>\n",
              "    <tr>\n",
              "      <th>max</th>\n",
              "      <td>4850.43</td>\n",
              "      <td>890.29</td>\n",
              "    </tr>\n",
              "  </tbody>\n",
              "</table>\n",
              "</div>\n",
              "    <div class=\"colab-df-buttons\">\n",
              "\n",
              "  <div class=\"colab-df-container\">\n",
              "    <button class=\"colab-df-convert\" onclick=\"convertToInteractive('df-1d1e3f49-da60-4d4a-b3b0-d629e4bf2915')\"\n",
              "            title=\"Convert this dataframe to an interactive table.\"\n",
              "            style=\"display:none;\">\n",
              "\n",
              "  <svg xmlns=\"http://www.w3.org/2000/svg\" height=\"24px\" viewBox=\"0 -960 960 960\">\n",
              "    <path d=\"M120-120v-720h720v720H120Zm60-500h600v-160H180v160Zm220 220h160v-160H400v160Zm0 220h160v-160H400v160ZM180-400h160v-160H180v160Zm440 0h160v-160H620v160ZM180-180h160v-160H180v160Zm440 0h160v-160H620v160Z\"/>\n",
              "  </svg>\n",
              "    </button>\n",
              "\n",
              "  <style>\n",
              "    .colab-df-container {\n",
              "      display:flex;\n",
              "      gap: 12px;\n",
              "    }\n",
              "\n",
              "    .colab-df-convert {\n",
              "      background-color: #E8F0FE;\n",
              "      border: none;\n",
              "      border-radius: 50%;\n",
              "      cursor: pointer;\n",
              "      display: none;\n",
              "      fill: #1967D2;\n",
              "      height: 32px;\n",
              "      padding: 0 0 0 0;\n",
              "      width: 32px;\n",
              "    }\n",
              "\n",
              "    .colab-df-convert:hover {\n",
              "      background-color: #E2EBFA;\n",
              "      box-shadow: 0px 1px 2px rgba(60, 64, 67, 0.3), 0px 1px 3px 1px rgba(60, 64, 67, 0.15);\n",
              "      fill: #174EA6;\n",
              "    }\n",
              "\n",
              "    .colab-df-buttons div {\n",
              "      margin-bottom: 4px;\n",
              "    }\n",
              "\n",
              "    [theme=dark] .colab-df-convert {\n",
              "      background-color: #3B4455;\n",
              "      fill: #D2E3FC;\n",
              "    }\n",
              "\n",
              "    [theme=dark] .colab-df-convert:hover {\n",
              "      background-color: #434B5C;\n",
              "      box-shadow: 0px 1px 3px 1px rgba(0, 0, 0, 0.15);\n",
              "      filter: drop-shadow(0px 1px 2px rgba(0, 0, 0, 0.3));\n",
              "      fill: #FFFFFF;\n",
              "    }\n",
              "  </style>\n",
              "\n",
              "    <script>\n",
              "      const buttonEl =\n",
              "        document.querySelector('#df-1d1e3f49-da60-4d4a-b3b0-d629e4bf2915 button.colab-df-convert');\n",
              "      buttonEl.style.display =\n",
              "        google.colab.kernel.accessAllowed ? 'block' : 'none';\n",
              "\n",
              "      async function convertToInteractive(key) {\n",
              "        const element = document.querySelector('#df-1d1e3f49-da60-4d4a-b3b0-d629e4bf2915');\n",
              "        const dataTable =\n",
              "          await google.colab.kernel.invokeFunction('convertToInteractive',\n",
              "                                                    [key], {});\n",
              "        if (!dataTable) return;\n",
              "\n",
              "        const docLinkHtml = 'Like what you see? Visit the ' +\n",
              "          '<a target=\"_blank\" href=https://colab.research.google.com/notebooks/data_table.ipynb>data table notebook</a>'\n",
              "          + ' to learn more about interactive tables.';\n",
              "        element.innerHTML = '';\n",
              "        dataTable['output_type'] = 'display_data';\n",
              "        await google.colab.output.renderOutput(dataTable, element);\n",
              "        const docLink = document.createElement('div');\n",
              "        docLink.innerHTML = docLinkHtml;\n",
              "        element.appendChild(docLink);\n",
              "      }\n",
              "    </script>\n",
              "  </div>\n",
              "\n",
              "\n",
              "<div id=\"df-d9a6ea7d-dcb8-41f3-b491-bed41c2ac799\">\n",
              "  <button class=\"colab-df-quickchart\" onclick=\"quickchart('df-d9a6ea7d-dcb8-41f3-b491-bed41c2ac799')\"\n",
              "            title=\"Suggest charts\"\n",
              "            style=\"display:none;\">\n",
              "\n",
              "<svg xmlns=\"http://www.w3.org/2000/svg\" height=\"24px\"viewBox=\"0 0 24 24\"\n",
              "     width=\"24px\">\n",
              "    <g>\n",
              "        <path d=\"M19 3H5c-1.1 0-2 .9-2 2v14c0 1.1.9 2 2 2h14c1.1 0 2-.9 2-2V5c0-1.1-.9-2-2-2zM9 17H7v-7h2v7zm4 0h-2V7h2v10zm4 0h-2v-4h2v4z\"/>\n",
              "    </g>\n",
              "</svg>\n",
              "  </button>\n",
              "\n",
              "<style>\n",
              "  .colab-df-quickchart {\n",
              "      --bg-color: #E8F0FE;\n",
              "      --fill-color: #1967D2;\n",
              "      --hover-bg-color: #E2EBFA;\n",
              "      --hover-fill-color: #174EA6;\n",
              "      --disabled-fill-color: #AAA;\n",
              "      --disabled-bg-color: #DDD;\n",
              "  }\n",
              "\n",
              "  [theme=dark] .colab-df-quickchart {\n",
              "      --bg-color: #3B4455;\n",
              "      --fill-color: #D2E3FC;\n",
              "      --hover-bg-color: #434B5C;\n",
              "      --hover-fill-color: #FFFFFF;\n",
              "      --disabled-bg-color: #3B4455;\n",
              "      --disabled-fill-color: #666;\n",
              "  }\n",
              "\n",
              "  .colab-df-quickchart {\n",
              "    background-color: var(--bg-color);\n",
              "    border: none;\n",
              "    border-radius: 50%;\n",
              "    cursor: pointer;\n",
              "    display: none;\n",
              "    fill: var(--fill-color);\n",
              "    height: 32px;\n",
              "    padding: 0;\n",
              "    width: 32px;\n",
              "  }\n",
              "\n",
              "  .colab-df-quickchart:hover {\n",
              "    background-color: var(--hover-bg-color);\n",
              "    box-shadow: 0 1px 2px rgba(60, 64, 67, 0.3), 0 1px 3px 1px rgba(60, 64, 67, 0.15);\n",
              "    fill: var(--button-hover-fill-color);\n",
              "  }\n",
              "\n",
              "  .colab-df-quickchart-complete:disabled,\n",
              "  .colab-df-quickchart-complete:disabled:hover {\n",
              "    background-color: var(--disabled-bg-color);\n",
              "    fill: var(--disabled-fill-color);\n",
              "    box-shadow: none;\n",
              "  }\n",
              "\n",
              "  .colab-df-spinner {\n",
              "    border: 2px solid var(--fill-color);\n",
              "    border-color: transparent;\n",
              "    border-bottom-color: var(--fill-color);\n",
              "    animation:\n",
              "      spin 1s steps(1) infinite;\n",
              "  }\n",
              "\n",
              "  @keyframes spin {\n",
              "    0% {\n",
              "      border-color: transparent;\n",
              "      border-bottom-color: var(--fill-color);\n",
              "      border-left-color: var(--fill-color);\n",
              "    }\n",
              "    20% {\n",
              "      border-color: transparent;\n",
              "      border-left-color: var(--fill-color);\n",
              "      border-top-color: var(--fill-color);\n",
              "    }\n",
              "    30% {\n",
              "      border-color: transparent;\n",
              "      border-left-color: var(--fill-color);\n",
              "      border-top-color: var(--fill-color);\n",
              "      border-right-color: var(--fill-color);\n",
              "    }\n",
              "    40% {\n",
              "      border-color: transparent;\n",
              "      border-right-color: var(--fill-color);\n",
              "      border-top-color: var(--fill-color);\n",
              "    }\n",
              "    60% {\n",
              "      border-color: transparent;\n",
              "      border-right-color: var(--fill-color);\n",
              "    }\n",
              "    80% {\n",
              "      border-color: transparent;\n",
              "      border-right-color: var(--fill-color);\n",
              "      border-bottom-color: var(--fill-color);\n",
              "    }\n",
              "    90% {\n",
              "      border-color: transparent;\n",
              "      border-bottom-color: var(--fill-color);\n",
              "    }\n",
              "  }\n",
              "</style>\n",
              "\n",
              "  <script>\n",
              "    async function quickchart(key) {\n",
              "      const quickchartButtonEl =\n",
              "        document.querySelector('#' + key + ' button');\n",
              "      quickchartButtonEl.disabled = true;  // To prevent multiple clicks.\n",
              "      quickchartButtonEl.classList.add('colab-df-spinner');\n",
              "      try {\n",
              "        const charts = await google.colab.kernel.invokeFunction(\n",
              "            'suggestCharts', [key], {});\n",
              "      } catch (error) {\n",
              "        console.error('Error during call to suggestCharts:', error);\n",
              "      }\n",
              "      quickchartButtonEl.classList.remove('colab-df-spinner');\n",
              "      quickchartButtonEl.classList.add('colab-df-quickchart-complete');\n",
              "    }\n",
              "    (() => {\n",
              "      let quickchartButtonEl =\n",
              "        document.querySelector('#df-d9a6ea7d-dcb8-41f3-b491-bed41c2ac799 button');\n",
              "      quickchartButtonEl.style.display =\n",
              "        google.colab.kernel.accessAllowed ? 'block' : 'none';\n",
              "    })();\n",
              "  </script>\n",
              "</div>\n",
              "\n",
              "    </div>\n",
              "  </div>\n"
            ]
          },
          "metadata": {},
          "execution_count": 16
        }
      ],
      "source": [
        "# check outliers\n",
        "price_data.describe()"
      ]
    },
    {
      "cell_type": "code",
      "execution_count": 17,
      "metadata": {
        "id": "jtH6-joVLhfx",
        "colab": {
          "base_uri": "https://localhost:8080/"
        },
        "outputId": "361954d8-b5b4-44d4-93da-01400fe4a918"
      },
      "outputs": [
        {
          "output_type": "execute_result",
          "data": {
            "text/plain": [
              "0"
            ]
          },
          "metadata": {},
          "execution_count": 17
        }
      ],
      "source": [
        "# check duplicate dates\n",
        "price_data.duplicated().sum()"
      ]
    },
    {
      "cell_type": "code",
      "execution_count": 18,
      "metadata": {
        "id": "7sODVBnHaU0I"
      },
      "outputs": [],
      "source": [
        "# add 7-day rolling averages for s&p 500 and s&p gsci to capture weekly information\n",
        "price_data['^GSPC_7dma'] = price_data['^GSPC'].rolling(window=5).mean()\n",
        "price_data['^SPGSCI_7dma'] = price_data['^SPGSCI'].rolling(window=5).mean()\n",
        "price_data.dropna(inplace=True)"
      ]
    },
    {
      "cell_type": "markdown",
      "metadata": {
        "id": "EWMrP2XxI6Pg"
      },
      "source": [
        "# Join data\n",
        "\n",
        "Our COT report data is weekly, however our price data is daily. In order to match these two datasets, we perform a left join, thereby downsampling daily price data to weekly. In order to maintain memory of those days which were removed during the downsampling procedure, we also include a 5-day (i.e. one calendar week) rolling moving average of prices. Additionally, this helps smooth out any spurious spikes or drops in price that may have ocurred on the sampling date."
      ]
    },
    {
      "cell_type": "code",
      "execution_count": 19,
      "metadata": {
        "id": "vKOzUPgzMnIf"
      },
      "outputs": [],
      "source": [
        "# merge cot_report and price_data dataframes into a main df\n",
        "main_df = pd.merge(\n",
        "    left=cot_report,\n",
        "    right=price_data,\n",
        "    how='left',\n",
        "    left_index=True,\n",
        "    right_index=True\n",
        ")\n",
        "\n",
        "# handle missing values\n",
        "main_df.ffill(inplace=True)\n",
        "main_df.dropna(inplace=True)"
      ]
    },
    {
      "cell_type": "code",
      "execution_count": 20,
      "metadata": {
        "id": "VLEhkkhv9Vcl"
      },
      "outputs": [],
      "source": [
        "# rename columns for convenience\n",
        "main_df.rename(\n",
        "    columns={\n",
        "        'CORN - CHICAGO BOARD OF TRADE': 'corn',\n",
        "        'SOYBEANS - CHICAGO BOARD OF TRADE': 'soybeans',\n",
        "        'WHEAT-HRW - CHICAGO BOARD OF TRADE': 'wheat_hrw',\n",
        "        'WHEAT-SRW - CHICAGO BOARD OF TRADE': 'wheat_srw',\n",
        "    },\n",
        "    inplace=True,\n",
        ")\n",
        "\n",
        "# rename index\n",
        "main_df.index.rename('Date', inplace=True)"
      ]
    },
    {
      "cell_type": "markdown",
      "metadata": {
        "id": "X3UVnD1RcVhC"
      },
      "source": [
        "# Define independent variable\n",
        "\n",
        "In order to convert our time series problem into a supervised learning problem, we define the CME corn net position at $t_{+1}$ as our response variable $y$."
      ]
    },
    {
      "cell_type": "code",
      "execution_count": 21,
      "metadata": {
        "id": "4GSx8BOmcki1"
      },
      "outputs": [],
      "source": [
        "# create independent variable y and drop missing rows\n",
        "main_df['y'] = main_df['corn'].shift(-1)\n",
        "main_df.dropna(inplace=True)"
      ]
    },
    {
      "cell_type": "markdown",
      "metadata": {
        "id": "h4w3IYlmFiP4"
      },
      "source": [
        "# Feature engineering\n",
        "\n",
        "The best predictive models are those that have access to the best data. By best we mean the most relevant, timely, and generally speaking, more data is better. Most retail investors have access to largely the same data. Therefore, in order to gain an edge, the next best approach is to make intelligent use of the data at hand through clever feature engineering. Below we employ a classic set of data augmentation techniques, which are equally applicable to time series from other domains."
      ]
    },
    {
      "cell_type": "markdown",
      "metadata": {
        "id": "BMGCfDFZansm"
      },
      "source": [
        "## Date features\n",
        "\n",
        "We extract date based features with the understanding that the week, month or quarter in any given year can provide us with information. This is especially pertinent to agricultural commodities as planting and harvesting are eventswhich exert a seasonal influence on futures prices."
      ]
    },
    {
      "cell_type": "code",
      "execution_count": 22,
      "metadata": {
        "id": "XqZxxICuWHwd"
      },
      "outputs": [],
      "source": [
        "def date_features(df):\n",
        "\n",
        "    df['month'] = df.index.month\n",
        "    df['week'] = df.index.isocalendar().week\n",
        "    df['quarter'] = df.index.quarter\n",
        "\n",
        "    return df"
      ]
    },
    {
      "cell_type": "markdown",
      "metadata": {
        "id": "QJRYr6qUyeCg"
      },
      "source": [
        "## Ratio features\n",
        "\n",
        "Next, we calculate various ratios, which is a way to model non-linear interactions among the predictors. Specifically, we attempt to capture information relating to what percentage of all grains are held in corn and how that evolves over time, as well as a more granular look at what proportion is held in corn versus soybeans, SRW wheat and HRW wheat."
      ]
    },
    {
      "cell_type": "code",
      "execution_count": 23,
      "metadata": {
        "id": "Iwgw9CrdCQ8-"
      },
      "outputs": [],
      "source": [
        "def ratio_features(df):\n",
        "\n",
        "    # aggregate feature\n",
        "    df['grains_net_position'] = df['corn'] + df['soybeans'] + df['wheat_hrw'] + df['wheat_srw']\n",
        "\n",
        "    # corn vs. others ratio features\n",
        "    df['corn_soybeans_ratio'] = df['corn'] / df['soybeans']\n",
        "    df['corn_hrw_ratio'] = df['corn'] / df['wheat_hrw']\n",
        "    df['corn_srw_ratio'] = df['corn'] / df['wheat_srw']\n",
        "    df['corn_wheat_ratio'] = df['corn'] / (df['wheat_hrw'] + df['wheat_srw'])\n",
        "    df['corn_grains_net_position_ratio'] = df['corn'] / df['grains_net_position']\n",
        "\n",
        "    # others vs. others ratio features\n",
        "    df['soybeans_grains_net_position_ratio'] = df['soybeans'] / df['grains_net_position']\n",
        "    df['hrw_grains_net_position_ratio'] = df['wheat_hrw'] / df['grains_net_position']\n",
        "    df['srw_grains_net_position_ratio'] = df['wheat_srw'] / df['grains_net_position']\n",
        "    df['wheat_grains_net_position_ratio'] = (df['wheat_hrw'] + df['wheat_srw']) / df['grains_net_position']\n",
        "\n",
        "    return df"
      ]
    },
    {
      "cell_type": "markdown",
      "metadata": {
        "id": "0vffVwZKN-Au"
      },
      "source": [
        "## Return features\n"
      ]
    },
    {
      "cell_type": "code",
      "execution_count": 24,
      "metadata": {
        "id": "jeYqa-cIzorj"
      },
      "outputs": [],
      "source": [
        "def return_features(df, columns, periods):\n",
        "\n",
        "    for period in range(1, periods+1):\n",
        "        new_cols = [f'{col}_return_{period}t' for col in columns]\n",
        "        df[new_cols] = df[columns].shift(periods=period)\n",
        "\n",
        "    return df"
      ]
    },
    {
      "cell_type": "markdown",
      "metadata": {
        "id": "XkpPC5W7ylvM"
      },
      "source": [
        "## Rolling features"
      ]
    },
    {
      "cell_type": "code",
      "execution_count": 25,
      "metadata": {
        "id": "TPr57V2ImL39"
      },
      "outputs": [],
      "source": [
        "def rolling_features(df, columns, windows):\n",
        "\n",
        "    mean_cols = [f'{col}_mean' for col in columns]\n",
        "    std_cols = [f'{col}_std' for col in columns]\n",
        "    min_cols = [f'{col}_min' for col in columns]\n",
        "    max_cols = [f'{col}_max' for col in columns]\n",
        "\n",
        "    # add rolling mean, std, min and max features\n",
        "    for window in windows:\n",
        "\n",
        "        mean_colnames = [f'{col}_{window}t' for col in mean_cols]\n",
        "        df[mean_colnames] = df[columns].rolling(window=window).mean()\n",
        "\n",
        "        std_colnames = [f'{col}_{window}t' for col in std_cols]\n",
        "        df[std_colnames] = df[columns].rolling(window=window).std()\n",
        "\n",
        "        min_colnames = [f'{col}_{window}t' for col in min_cols]\n",
        "        df[min_colnames] = df[columns].rolling(window=window).min()\n",
        "\n",
        "        max_colnames = [f'{col}_{window}t' for col in max_cols]\n",
        "        df[max_colnames] = df[columns].rolling(window=window).max()\n",
        "\n",
        "    return df"
      ]
    },
    {
      "cell_type": "markdown",
      "metadata": {
        "id": "HASUwSsEyilq"
      },
      "source": [
        "## Lagged features"
      ]
    },
    {
      "cell_type": "code",
      "execution_count": 26,
      "metadata": {
        "id": "dimHZ7DX6oSL"
      },
      "outputs": [],
      "source": [
        "def lagged_features(df, columns, lags):\n",
        "\n",
        "    for lag in range(1, lags+1):\n",
        "        new_cols = [f'{col}_t-{lag}' for col in columns]\n",
        "        df[new_cols] = df[columns].shift(periods=lag)\n",
        "\n",
        "    return df"
      ]
    },
    {
      "cell_type": "markdown",
      "metadata": {
        "id": "A5kRHDNq0S5o"
      },
      "source": [
        "# Augment dataset\n",
        "\n",
        "In the following code block we perform three operations to extract additional signal from our time series data.\n",
        "\n",
        "We consider weekly percentage changes, comparing the current observation with $t_{-n}$ weeks prior and going back up to one month. We perform this for all features, including the earlier computed ratios.\n",
        "\n",
        "Next we capture rolling statistics for mean, standard deviation, min and max values for a one, two and three month lookback period. We perform this for the corn position features only in order to avoid creating an excessively large number of predictors and thereby potentially exposing us to the curse of dimensionality.\n",
        "\n",
        "Lastly, we take lagged values of our dependent variable reaching back three months and then transform these into predictor variables. This approach is identical to what one would expect in an ARIMA model, specifically the AR part. The MA part involves accounting for the weighted sum of past white noise error terms. We also specifically account for modeling the errors, albeit in a different manner, namely through using a gradient boosted decision tree as our model algorithm."
      ]
    },
    {
      "cell_type": "code",
      "execution_count": 27,
      "metadata": {
        "id": "B3S7uyDSxFGP"
      },
      "outputs": [],
      "source": [
        "# number of periods and list of features for which to calculate returns\n",
        "periods = 4\n",
        "return_cols = [\n",
        "    'corn', 'soybeans', 'wheat_hrw', 'wheat_srw',\n",
        "    'corn_soybeans_ratio', 'corn_hrw_ratio', 'corn_srw_ratio', 'corn_wheat_ratio',\n",
        "    'grains_net_position', 'corn_grains_net_position_ratio',\n",
        "    '^GSPC', '^SPGSCI', '^GSPC_7dma', '^SPGSCI_7dma',\n",
        "]\n",
        "\n",
        "# window length and list of features for which to calculate rolling statistics\n",
        "windows = [4, 8, 12]\n",
        "rolling_cols = [\n",
        "    'corn',\n",
        "    'grains_net_position', 'corn_grains_net_position_ratio',\n",
        "]\n",
        "\n",
        "# number of lags and list of features on which to perform lagged operation\n",
        "lags = 12\n",
        "lagged_cols = [\n",
        "    'corn',\n",
        "    'corn_return_1t',\n",
        "    'corn_grains_net_position_ratio_return_1t',\n",
        "]"
      ]
    },
    {
      "cell_type": "code",
      "execution_count": 28,
      "metadata": {
        "id": "7zcbUK_J4DSO"
      },
      "outputs": [],
      "source": [
        "def feature_engineering(df):\n",
        "\n",
        "    df = date_features(df)\n",
        "    df = ratio_features(df)\n",
        "    df = return_features(df, return_cols, periods)\n",
        "    df = rolling_features(df, rolling_cols, windows)\n",
        "    df = lagged_features(df, lagged_cols, lags)\n",
        "\n",
        "    return df"
      ]
    },
    {
      "cell_type": "code",
      "execution_count": 29,
      "metadata": {
        "id": "7K9smz5mIEeD",
        "colab": {
          "base_uri": "https://localhost:8080/"
        },
        "outputId": "71114ed5-ac08-4768-a721-43a8926275eb"
      },
      "outputs": [
        {
          "output_type": "stream",
          "name": "stdout",
          "text": [
            "(917, 150)\n",
            "CPU times: user 132 ms, sys: 841 µs, total: 133 ms\n",
            "Wall time: 132 ms\n"
          ]
        }
      ],
      "source": [
        "%%time\n",
        "main_df = feature_engineering(main_df)\n",
        "print(main_df.shape)"
      ]
    },
    {
      "cell_type": "markdown",
      "metadata": {
        "id": "sITmzffqkULB"
      },
      "source": [
        "# Train test split\n",
        "\n",
        "We specifiy all data up to and including the year 2021 as our training set. We do not set aside a separate validation set considering the limited size of our dataset. Rather, we will use a time series cross validation approach, thereby reusing our scarce data optimally in order to tune our model and evaluate its in-sample performance. Lastly, we perform one final assessment of our model on the out-of-sample test set, which in this case encompasses all data from 2022 until present."
      ]
    },
    {
      "cell_type": "code",
      "execution_count": 30,
      "metadata": {
        "id": "JxQcv_sEFjff"
      },
      "outputs": [],
      "source": [
        "# specify date for end of training data\n",
        "end_train_date = '2021-12-31'\n",
        "\n",
        "# split data into train and test sets\n",
        "train_df = main_df[:end_train_date]\n",
        "\n",
        "# split data into X and y\n",
        "X_train = train_df.drop('y', axis=1)\n",
        "y_train = train_df['y']"
      ]
    },
    {
      "cell_type": "markdown",
      "metadata": {
        "id": "ryDE_W-jGWXp"
      },
      "source": [
        "# Train model\n",
        "\n",
        "We have opted for an XGBoost Regressor as our model, which is a gradient boosted decision tree for regression problems. This model is known to perform exceptionally well on tabular data and is both a frequent winner in Kaggle competitions and finds wide practical application in industry."
      ]
    },
    {
      "cell_type": "code",
      "execution_count": 31,
      "metadata": {
        "id": "vQ6UhuRtgOyr"
      },
      "outputs": [],
      "source": [
        "%%capture\n",
        "\n",
        "# instantiate untuned base model\n",
        "params = {\n",
        "    'n_estimators': 500,\n",
        "    'n_jobs': -1,\n",
        "    'random_state': 42,\n",
        "    'importance_type': 'gain',\n",
        "}\n",
        "estimator = xgb.XGBRegressor(**params)\n",
        "estimator.fit(X_train, y_train)"
      ]
    },
    {
      "cell_type": "markdown",
      "metadata": {
        "id": "BoLXpNrWf-Vs"
      },
      "source": [
        "## Feature importances\n",
        "\n",
        "An advantage of tree-based models is that they provide insight into how much each feature contributes to computing a final prediction.\n",
        "\n",
        "In order to calculate our feature importances we use the 'gain' metric, which reflects the improvement in accuracy or reduction in the loss function that a particular feature brings to the model. The actual numerical value produced by the gain calculation is non-intuitive and only useful when comparing different features in the same model.\n",
        "\n",
        "The below chart reinforces what we empirically know to be true, namely that financial time series contain a very low signal-to-noise ratio. This chart shows us that the observation at current time step $t$ is the most informative feature in predicting our response variable $t_{+1}$. In other words, the current managed money net position for CME corn is by far the best guess for next week's position."
      ]
    },
    {
      "cell_type": "code",
      "source": [
        "# plot feature importances\n",
        "plot_importance(estimator, max_num_features=25, importance_type='gain')\n",
        "plt.show()"
      ],
      "metadata": {
        "colab": {
          "base_uri": "https://localhost:8080/",
          "height": 472
        },
        "id": "8W-iyUMd7ubz",
        "outputId": "44fc81b7-68ed-49fe-9a60-d89bd2e76981"
      },
      "execution_count": 32,
      "outputs": [
        {
          "output_type": "display_data",
          "data": {
            "text/plain": [
              "<Figure size 640x480 with 1 Axes>"
            ],
            "image/png": "[encoded data removed]"
          },
          "metadata": {}
        }
      ]
    },
    {
      "cell_type": "markdown",
      "metadata": {
        "id": "6Y-UvXTqwXXi"
      },
      "source": [
        "## Feature selection\n",
        "\n",
        "based on the above graph we see that beyond corn everything tails off quickly\n",
        "we arbitrarily trim down to 50, although even that is likely to contain many features with no predictive power but these will get regularised away through an elastic net in order to prevent overfitting"
      ]
    },
    {
      "cell_type": "code",
      "execution_count": 33,
      "metadata": {
        "id": "qA-mQrFJxHWc"
      },
      "outputs": [],
      "source": [
        "# keep sqrt(observations) as # of features\n",
        "k = int(len(X_train)**0.5)\n",
        "\n",
        "# get feature importance scores\n",
        "importance_scores = estimator.feature_importances_\n",
        "feature_names = X_train.columns\n",
        "feature_importance_df = pd.DataFrame({'Feature': feature_names, 'Importance': importance_scores})\n",
        "feature_importance_df = feature_importance_df.sort_values(by='Importance', ascending=False)\n",
        "k_best_cols = feature_importance_df.iloc[:k]['Feature'].values\n",
        "\n",
        "# select k best features\n",
        "main_df = main_df[k_best_cols.tolist() + ['y']]\n",
        "X_train = X_train[k_best_cols]"
      ]
    },
    {
      "cell_type": "markdown",
      "metadata": {
        "id": "I5SpwAt4GbRQ"
      },
      "source": [
        "## Hyperparameter tuning\n",
        "\n",
        "There are three flavours of hyperparameter tuning, via exhaustive grid search, via a randomised grid search, and employing Bayesian optimisation algorithms. An exhaustive grid search has well known limitations in that it fails to consider the subspace between the predefined hyperparameters. A randomised search does better, but still does not consider convexity in the loss surface. Therefore, we opt to use the Optuna library, which employs Bayesian optimisation to iteratively consider a more optimal combination of hyperparameters thereby reducing the loss function.\n",
        "\n",
        "In our case, we specify the metric to be minimised as the RMSE.\n",
        "\n",
        "robustness\n",
        "time series cross validation\n",
        "\n",
        "30 trials works well empirically"
      ]
    },
    {
      "cell_type": "code",
      "execution_count": 34,
      "metadata": {
        "id": "UWwNpTk0aAp3",
        "colab": {
          "base_uri": "https://localhost:8080/"
        },
        "outputId": "3fd6311e-ae3e-49ad-c598-c2562da251f7"
      },
      "outputs": [
        {
          "output_type": "stream",
          "name": "stderr",
          "text": [
            "[I 2024-01-23 05:05:23,718] A new study created in memory with name: no-name-a597ba9a-7aad-4826-9097-5d5fcb924420\n",
            "[I 2024-01-23 05:06:11,700] Trial 0 finished with value: -20861738015.730053 and parameters: {'n_estimators': 475, 'max_depth': 5, 'learning_rate': 0.0010005268542378305, 'reg_alpha': 0.9069977178955193, 'reg_lambda': 0.44026767245133913}. Best is trial 0 with value: -20861738015.730053.\n",
            "[I 2024-01-23 05:06:15,264] Trial 1 finished with value: -12887566763.996466 and parameters: {'n_estimators': 183, 'max_depth': 2, 'learning_rate': 0.0049104518184659674, 'reg_alpha': 1.1903024226920098, 'reg_lambda': 1.6164502020100708}. Best is trial 1 with value: -12887566763.996466.\n",
            "[I 2024-01-23 05:06:50,976] Trial 2 finished with value: -6988835553.976257 and parameters: {'n_estimators': 477, 'max_depth': 5, 'learning_rate': 0.002563920173316311, 'reg_alpha': 2.6343523091728365, 'reg_lambda': 0.08216277959377849}. Best is trial 2 with value: -6988835553.976257.\n",
            "[I 2024-01-23 05:07:19,230] Trial 3 finished with value: -2533517052.840111 and parameters: {'n_estimators': 704, 'max_depth': 4, 'learning_rate': 0.01310326900146444, 'reg_alpha': 0.4211608157857013, 'reg_lambda': 0.5943044672546364}. Best is trial 3 with value: -2533517052.840111.\n",
            "[I 2024-01-23 05:08:10,819] Trial 4 finished with value: -4191116002.831498 and parameters: {'n_estimators': 821, 'max_depth': 6, 'learning_rate': 0.004234950674068092, 'reg_alpha': 2.0769678470079422, 'reg_lambda': 2.6291674568881147}. Best is trial 3 with value: -2533517052.840111.\n",
            "[I 2024-01-23 05:08:21,089] Trial 5 finished with value: -10488523785.00002 and parameters: {'n_estimators': 906, 'max_depth': 2, 'learning_rate': 0.0011970424904099207, 'reg_alpha': 0.5094912586937067, 'reg_lambda': 2.6344275102882393}. Best is trial 3 with value: -2533517052.840111.\n",
            "[I 2024-01-23 05:08:24,513] Trial 6 finished with value: -3149210313.95458 and parameters: {'n_estimators': 188, 'max_depth': 4, 'learning_rate': 0.0823718955833529, 'reg_alpha': 1.5994958549190512, 'reg_lambda': 2.07563134185142}. Best is trial 3 with value: -2533517052.840111.\n",
            "[I 2024-01-23 05:08:38,674] Trial 7 finished with value: -3518558502.6589723 and parameters: {'n_estimators': 384, 'max_depth': 5, 'learning_rate': 0.0466929533152365, 'reg_alpha': 0.05486483203257542, 'reg_lambda': 2.2504329448349023}. Best is trial 3 with value: -2533517052.840111.\n",
            "[I 2024-01-23 05:09:22,473] Trial 8 finished with value: -2630120328.4973574 and parameters: {'n_estimators': 990, 'max_depth': 5, 'learning_rate': 0.0036382118505407977, 'reg_alpha': 2.3678379853544653, 'reg_lambda': 0.3096780197329261}. Best is trial 3 with value: -2533517052.840111.\n",
            "[I 2024-01-23 05:10:04,628] Trial 9 finished with value: -4608970652.798947 and parameters: {'n_estimators': 503, 'max_depth': 6, 'learning_rate': 0.0038657013301325246, 'reg_alpha': 0.8633260157590462, 'reg_lambda': 0.390085716354833}. Best is trial 3 with value: -2533517052.840111.\n",
            "[I 2024-01-23 05:10:17,219] Trial 10 finished with value: -2363194392.361044 and parameters: {'n_estimators': 766, 'max_depth': 3, 'learning_rate': 0.01594263184793263, 'reg_alpha': 0.1214222203090779, 'reg_lambda': 1.0512432746272142}. Best is trial 10 with value: -2363194392.361044.\n",
            "[I 2024-01-23 05:10:29,156] Trial 11 finished with value: -2375255432.0499296 and parameters: {'n_estimators': 705, 'max_depth': 3, 'learning_rate': 0.018322957027542015, 'reg_alpha': 0.019663585289220464, 'reg_lambda': 0.962892591489242}. Best is trial 10 with value: -2363194392.361044.\n",
            "[I 2024-01-23 05:10:36,838] Trial 12 finished with value: -2323748696.4170527 and parameters: {'n_estimators': 689, 'max_depth': 3, 'learning_rate': 0.017226711546219235, 'reg_alpha': 0.03540927215156381, 'reg_lambda': 1.048506773900462}. Best is trial 12 with value: -2323748696.4170527.\n",
            "[I 2024-01-23 05:10:49,293] Trial 13 finished with value: -2449664541.5271564 and parameters: {'n_estimators': 670, 'max_depth': 3, 'learning_rate': 0.023871236284173966, 'reg_alpha': 0.4413772534372737, 'reg_lambda': 1.156821059668224}. Best is trial 12 with value: -2323748696.4170527.\n",
            "[I 2024-01-23 05:11:02,152] Trial 14 finished with value: -2323855730.0981216 and parameters: {'n_estimators': 780, 'max_depth': 3, 'learning_rate': 0.008480601189288365, 'reg_alpha': 1.7437260353727542, 'reg_lambda': 1.4225410027252603}. Best is trial 12 with value: -2323748696.4170527.\n",
            "[I 2024-01-23 05:11:13,001] Trial 15 finished with value: -2347625626.2042403 and parameters: {'n_estimators': 583, 'max_depth': 3, 'learning_rate': 0.008741471834413143, 'reg_alpha': 1.686901935908117, 'reg_lambda': 1.438467098398362}. Best is trial 12 with value: -2323748696.4170527.\n",
            "[I 2024-01-23 05:11:18,534] Trial 16 finished with value: -2425004052.4682355 and parameters: {'n_estimators': 833, 'max_depth': 2, 'learning_rate': 0.03271140482621489, 'reg_alpha': 2.939643602510212, 'reg_lambda': 1.6735893870770475}. Best is trial 12 with value: -2323748696.4170527.\n",
            "[I 2024-01-23 05:11:41,135] Trial 17 finished with value: -2654786494.819895 and parameters: {'n_estimators': 609, 'max_depth': 4, 'learning_rate': 0.0078088783906610105, 'reg_alpha': 1.8877451749854415, 'reg_lambda': 0.8143678098875258}. Best is trial 12 with value: -2323748696.4170527.\n",
            "[I 2024-01-23 05:11:45,450] Trial 18 finished with value: -2478131467.8348327 and parameters: {'n_estimators': 362, 'max_depth': 3, 'learning_rate': 0.04933452260344261, 'reg_alpha': 1.3006584016122855, 'reg_lambda': 1.9429182551904307}. Best is trial 12 with value: -2323748696.4170527.\n",
            "[I 2024-01-23 05:11:56,210] Trial 19 finished with value: -2270538784.55247 and parameters: {'n_estimators': 999, 'max_depth': 2, 'learning_rate': 0.009655983233015973, 'reg_alpha': 2.08628931874925, 'reg_lambda': 1.34792940805223}. Best is trial 19 with value: -2270538784.55247.\n",
            "[I 2024-01-23 05:12:02,890] Trial 20 finished with value: -4832040238.328711 and parameters: {'n_estimators': 965, 'max_depth': 2, 'learning_rate': 0.0019062789172989286, 'reg_alpha': 2.1642727207821375, 'reg_lambda': 1.2293263562175505}. Best is trial 19 with value: -2270538784.55247.\n",
            "[I 2024-01-23 05:12:12,865] Trial 21 finished with value: -2258598794.7676377 and parameters: {'n_estimators': 860, 'max_depth': 2, 'learning_rate': 0.00795754502573442, 'reg_alpha': 2.368311476398635, 'reg_lambda': 1.4970267893531448}. Best is trial 21 with value: -2258598794.7676377.\n",
            "[I 2024-01-23 05:12:18,853] Trial 22 finished with value: -2438251400.6767607 and parameters: {'n_estimators': 910, 'max_depth': 2, 'learning_rate': 0.025114839165981565, 'reg_alpha': 2.511202584392752, 'reg_lambda': 1.8401721722743813}. Best is trial 21 with value: -2258598794.7676377.\n",
            "[I 2024-01-23 05:12:28,832] Trial 23 finished with value: -2216055222.509985 and parameters: {'n_estimators': 888, 'max_depth': 2, 'learning_rate': 0.011344632150761326, 'reg_alpha': 2.930872385126193, 'reg_lambda': 0.8747676892554006}. Best is trial 23 with value: -2216055222.509985.\n",
            "[I 2024-01-23 05:12:39,903] Trial 24 finished with value: -2203379248.373187 and parameters: {'n_estimators': 894, 'max_depth': 2, 'learning_rate': 0.006600518209596142, 'reg_alpha': 2.9767998705353524, 'reg_lambda': 0.8267822037105097}. Best is trial 24 with value: -2203379248.373187.\n",
            "[I 2024-01-23 05:12:45,850] Trial 25 finished with value: -2202530023.959054 and parameters: {'n_estimators': 888, 'max_depth': 2, 'learning_rate': 0.00602599875098352, 'reg_alpha': 2.9595829501008013, 'reg_lambda': 0.7450080500730075}. Best is trial 25 with value: -2202530023.959054.\n",
            "[I 2024-01-23 05:12:56,249] Trial 26 finished with value: -2203777751.2425137 and parameters: {'n_estimators': 919, 'max_depth': 2, 'learning_rate': 0.005668979485031857, 'reg_alpha': 2.912226433656054, 'reg_lambda': 0.6998467862188027}. Best is trial 25 with value: -2202530023.959054.\n",
            "[I 2024-01-23 05:13:01,413] Trial 27 finished with value: -2249767658.8710756 and parameters: {'n_estimators': 765, 'max_depth': 2, 'learning_rate': 0.005882932553212705, 'reg_alpha': 2.766422790820264, 'reg_lambda': 0.7480942850481737}. Best is trial 25 with value: -2202530023.959054.\n",
            "[I 2024-01-23 05:13:27,745] Trial 28 finished with value: -3234183033.676456 and parameters: {'n_estimators': 935, 'max_depth': 4, 'learning_rate': 0.0025546185745540313, 'reg_alpha': 2.747691160400332, 'reg_lambda': 0.6015452562981016}. Best is trial 25 with value: -2202530023.959054.\n",
            "[I 2024-01-23 05:13:37,472] Trial 29 finished with value: -3719639987.907885 and parameters: {'n_estimators': 819, 'max_depth': 2, 'learning_rate': 0.0026852409136166543, 'reg_alpha': 2.9804877028477144, 'reg_lambda': 0.29423587183607475}. Best is trial 25 with value: -2202530023.959054.\n"
          ]
        },
        {
          "output_type": "stream",
          "name": "stdout",
          "text": [
            "CPU times: user 12min 39s, sys: 2.94 s, total: 12min 42s\n",
            "Wall time: 8min 13s\n"
          ]
        }
      ],
      "source": [
        "%%time\n",
        "\n",
        "def objective(trial):\n",
        "\n",
        "    # xgboost regressor hyperparameters to explore\n",
        "    params = {\n",
        "        'n_estimators': trial.suggest_int('n_estimators', 100, 1000),\n",
        "        'max_depth': trial.suggest_int('max_depth', 2, 6),\n",
        "        'learning_rate': trial.suggest_float('learning_rate', 1e-3, 0.1, log=True),\n",
        "        'n_jobs': -1,\n",
        "        'reg_alpha': trial.suggest_float('reg_alpha', 0., 3.),\n",
        "        'reg_lambda': trial.suggest_float('reg_lambda', 0., 3.),\n",
        "        'random_state': 42,\n",
        "        'importance_type': 'gain',\n",
        "    }\n",
        "\n",
        "    # time series cross validation\n",
        "    n_samples = len(train_df)\n",
        "    tscv = TimeSeriesSplit(n_splits=5, test_size=52) # test folds of approx one year each\n",
        "\n",
        "    # get mae for each cross validation fold\n",
        "    scores = cross_val_score(\n",
        "        estimator=xgb.XGBRegressor(**params),\n",
        "        X=X_train,\n",
        "        y=y_train,\n",
        "        scoring='neg_mean_squared_error',\n",
        "        cv=tscv,\n",
        "    )\n",
        "\n",
        "    # return average mae across folds\n",
        "    return np.mean(scores)\n",
        "\n",
        "# run bayesian hyperparameter optimisation with 30 trials\n",
        "random_state = TPESampler(seed=1)\n",
        "study = optuna.create_study(direction='maximize', sampler=random_state)\n",
        "study.optimize(objective, n_trials=30, gc_after_trial=True)"
      ]
    },
    {
      "cell_type": "code",
      "execution_count": 35,
      "metadata": {
        "id": "41pjo3S7ovIe",
        "colab": {
          "base_uri": "https://localhost:8080/"
        },
        "outputId": "b57bcde6-1332-4d9a-8150-335e1a5c11e7"
      },
      "outputs": [
        {
          "output_type": "stream",
          "name": "stdout",
          "text": [
            "Best hyperparameters: {'n_estimators': 888, 'max_depth': 2, 'learning_rate': 0.00602599875098352, 'reg_alpha': 2.9595829501008013, 'reg_lambda': 0.7450080500730075}\n"
          ]
        }
      ],
      "source": [
        "# display best hyperparameters\n",
        "print('Best hyperparameters:', study.best_params)"
      ]
    },
    {
      "cell_type": "code",
      "execution_count": 36,
      "metadata": {
        "id": "he_pPGs-aFX1"
      },
      "outputs": [],
      "source": [
        "%%capture\n",
        "\n",
        "# instantiate new model with best hyperparameters\n",
        "estimator = xgb.XGBRegressor(**study.best_trial.params)\n",
        "\n",
        "# refit model\n",
        "estimator.fit(X_train, y_train)"
      ]
    },
    {
      "cell_type": "markdown",
      "metadata": {
        "id": "jsYHmJzIVbTc"
      },
      "source": [
        "# Walk forward model evaluation\n",
        "\n",
        "The below function evaluates the performance of our final model on the test set. When no model is passed to the function, it will run a naive forecast, which simply takes the current observation as it's best guess estimate for $t_{+1}$. Despite its simple approach, this model performs robustly for financial time series given these often follow a random walk where each subsequent step has no memory of the past and ...\n",
        "\n",
        "We have chosen RMSE and MAPE as the performance metrics by which to compare our model performance versus the naive forecast. RMSE has the advantage of being easily interpretable as it is expressed in the same units as the variable being forecast. MAPE is unit-agnostic and is expressed as a percentage, therefore allowing model comparison across different unit scales and domains."
      ]
    },
    {
      "cell_type": "code",
      "execution_count": 37,
      "metadata": {
        "id": "dt2eVpTN50In"
      },
      "outputs": [],
      "source": [
        "def expanding_walk_forward_evaluation(df, model='naive', train_size=0.8):\n",
        "  \"\"\"\n",
        "  Performs an expanding walk-forward evaluation, where the model is trained\n",
        "  on an increasing portion of the input data and evaluated on the subsequent time step.\n",
        "  Note that the terms test and evaluation can be used interchangeably, as this function\n",
        "  can be applied to either depending on the data provided.\n",
        "\n",
        "  Parameters:\n",
        "      - df (pd.DataFrame): DataFrame containing time series data as a supervised learning problem.\n",
        "          Can have any number of X features, but y response vector must be 'y'.\n",
        "      - model: Predictive model to be trained and evaluated. Must have .fit() and .predict() methods.\n",
        "          If no model is specified, it will use a naive forecast taking the value of the most recent\n",
        "          timestamp as the forecast value for t+1.\n",
        "      - train_size (float): Fraction of data to use as the initial (unexpanded) training set.\n",
        "\n",
        "  Returns:\n",
        "      - y_trues (Series): Ground truth labels for the test set.\n",
        "      - y_preds (Series): Predicted values for the test set.\n",
        "      - residuals (Series): Residuals as ground truth minus predicted values.\n",
        "      - mape (float): Mean Absolute Percentage Error between ground truth and predicted values.\n",
        "  \"\"\"\n",
        "\n",
        "  # create a copy of dataframe to avoid override\n",
        "  df = df.copy()\n",
        "\n",
        "  # define X feature matrix and y response vector\n",
        "  X = df.drop(columns='y')\n",
        "  y = df['y']\n",
        "\n",
        "  # index used to mark boundary between expanding training set and t+1 test set\n",
        "  idx = int(len(df) * train_size)\n",
        "\n",
        "  # ground truth labels and empty list to collect predicted values\n",
        "  y_trues = y.iloc[idx:]\n",
        "  y_preds = pd.Series(index=y_trues.index, dtype=np.float32)\n",
        "\n",
        "  # naive forecast\n",
        "  if model == 'naive':\n",
        "    y_preds.loc[y_trues.index] = y.iloc[idx-1:-1].values\n",
        "\n",
        "  # model specific forecast\n",
        "  else:\n",
        "    # perform walk forward evaluation\n",
        "    for step in trange(len(df[idx:])):\n",
        "\n",
        "      # training set for this fold\n",
        "      X_train = X[:idx]\n",
        "      y_train = y[:idx]\n",
        "\n",
        "      # test set for this fold\n",
        "      X_test = X.iloc[[idx]]\n",
        "\n",
        "      # fit model using training set and use trained model to predict t+1\n",
        "      model.fit(X_train, y_train)\n",
        "      y_pred = model.predict(X_test)[0]\n",
        "      y_preds[y_trues.index[step]] = y_pred\n",
        "\n",
        "      # increment train-test boundary index\n",
        "      idx += 1\n",
        "\n",
        "  # compute residual and performance metrics\n",
        "  residuals = y_trues - y_preds\n",
        "  rmse = mean_squared_error(y_trues, y_preds, squared=False)\n",
        "  mae = mean_absolute_error(y_trues, y_preds)\n",
        "  mape = mean_absolute_percentage_error(y_trues, y_preds)\n",
        "\n",
        "  return y_trues, y_preds, residuals, mape, rmse"
      ]
    },
    {
      "cell_type": "markdown",
      "metadata": {
        "id": "mfDRXwXWm3M4"
      },
      "source": [
        "## Naive forecast performance on test set"
      ]
    },
    {
      "cell_type": "code",
      "execution_count": 38,
      "metadata": {
        "id": "Y1JXcary1eDA"
      },
      "outputs": [],
      "source": [
        "naive_forecast = expanding_walk_forward_evaluation(\n",
        "    df = main_df,\n",
        "    train_size = len(train_df) / len(main_df),\n",
        ")"
      ]
    },
    {
      "cell_type": "code",
      "execution_count": 39,
      "metadata": {
        "id": "HFbI1e9D5E6s",
        "colab": {
          "base_uri": "https://localhost:8080/"
        },
        "outputId": "6c2d4e16-ddb1-4bba-a2ad-119c48dc7314"
      },
      "outputs": [
        {
          "output_type": "stream",
          "name": "stdout",
          "text": [
            "\n",
            "  BENCHMARK METRICS\n",
            "  Using a naive forecast\n",
            "  - - -\n",
            "  RMSE: 34619.003\n",
            "  MAPE: 0.562\n",
            "  \n"
          ]
        }
      ],
      "source": [
        "print(f\"\"\"\n",
        "  BENCHMARK METRICS\n",
        "  Using a naive forecast\n",
        "  - - -\n",
        "  RMSE: {naive_forecast[-1]:.3f}\n",
        "  MAPE: {naive_forecast[-2]:.3f}\n",
        "  \"\"\"\n",
        "  )"
      ]
    },
    {
      "cell_type": "markdown",
      "metadata": {
        "id": "KRaN5d9by-rY"
      },
      "source": [
        "## Tuned model performance on test set"
      ]
    },
    {
      "cell_type": "code",
      "execution_count": 40,
      "metadata": {
        "id": "YD35IKAlS-Gn",
        "colab": {
          "base_uri": "https://localhost:8080/"
        },
        "outputId": "f20ae4a3-daf5-4c2f-f20d-57caedaa2ecb"
      },
      "outputs": [
        {
          "output_type": "stream",
          "name": "stderr",
          "text": [
            "100%|██████████| 106/106 [02:58<00:00,  1.68s/it]"
          ]
        },
        {
          "output_type": "stream",
          "name": "stdout",
          "text": [
            "CPU times: user 4min 51s, sys: 1.45 s, total: 4min 52s\n",
            "Wall time: 2min 58s\n"
          ]
        },
        {
          "output_type": "stream",
          "name": "stderr",
          "text": [
            "\n"
          ]
        }
      ],
      "source": [
        "%%time\n",
        "\n",
        "xgb_forecast = expanding_walk_forward_evaluation(\n",
        "    df = main_df,\n",
        "    model = estimator,\n",
        "    train_size = len(train_df) / len(main_df),\n",
        ")"
      ]
    },
    {
      "cell_type": "code",
      "source": [
        "print(f\"\"\"\n",
        "  PERFORMANCE METRICS\n",
        "  Using XGBoost Regressor\n",
        "  - - -\n",
        "  RMSE: {xgb_forecast[-1]:.3f}\n",
        "  MAPE: {xgb_forecast[-2]:.3f}\n",
        "  \"\"\"\n",
        "  )"
      ],
      "metadata": {
        "colab": {
          "base_uri": "https://localhost:8080/"
        },
        "id": "HEQcY4VI36oB",
        "outputId": "efcf7721-c94c-4d7d-b7b1-6f4a1224b30a"
      },
      "execution_count": 41,
      "outputs": [
        {
          "output_type": "stream",
          "name": "stdout",
          "text": [
            "\n",
            "  PERFORMANCE METRICS\n",
            "  Using XGBoost Regressor\n",
            "  - - -\n",
            "  RMSE: 34709.860\n",
            "  MAPE: 0.482\n",
            "  \n"
          ]
        }
      ]
    },
    {
      "cell_type": "markdown",
      "metadata": {
        "id": "L-kebAjg5ceW"
      },
      "source": [
        "## Residuals analysis\n",
        "\n",
        "An important, yet often neglected, part of model evaluation is analysing the residuals. The residuals are the individual differences between the observed (true) values and predicted values. The aim is to inspect whether our model has managed to capture all signal from the data. In order to establish whether this is the case, we would commonly look to satisfy these four criteria:\n",
        "- residuals have a mean of zero\n",
        "- residuals have a constant variance (i.e. homoskedastic and time invariant)\n",
        "- residuals follow a Gaussian distribution\n",
        "- residuals are not autocorrelated"
      ]
    },
    {
      "cell_type": "code",
      "execution_count": 48,
      "metadata": {
        "id": "BsNz7dOU5cej"
      },
      "outputs": [],
      "source": [
        "y_trues, y_preds, residuals, mape, rmse = xgb_forecast"
      ]
    },
    {
      "cell_type": "markdown",
      "metadata": {
        "id": "SSvOeK9NGFEQ"
      },
      "source": [
        "First, we visually inspect whether our residuals appear to be a white noise series with a mean of zero and constant variance. This indeed appears to be the case, although perhaps there is minimal downward drift over time."
      ]
    },
    {
      "cell_type": "code",
      "execution_count": 49,
      "metadata": {
        "id": "0jhLy5xl-OpX",
        "colab": {
          "base_uri": "https://localhost:8080/",
          "height": 455
        },
        "outputId": "d2e6d302-d4ab-45fd-d4d3-1f1faf309215"
      },
      "outputs": [
        {
          "output_type": "display_data",
          "data": {
            "text/plain": [
              "<Figure size 640x480 with 1 Axes>"
            ],
            "image/png": "[encoded data removed]"
          },
          "metadata": {}
        }
      ],
      "source": [
        "residuals.plot()\n",
        "plt.title(f'Residuals: observed minus actual')\n",
        "plt.show()"
      ]
    },
    {
      "cell_type": "markdown",
      "metadata": {
        "id": "jhTcq0oIGOmx"
      },
      "source": [
        "Next, we perform another visual check to see whether our residuals were drawn from a normal distribution. This indeed appears to be the case with a mean very close to zero and a familiar bell-shaped curve, albeit perhaps showing a slight negative skew and positive kurtosis (leptokurtic)."
      ]
    },
    {
      "cell_type": "code",
      "execution_count": 50,
      "metadata": {
        "id": "QEWnglsTFSWS",
        "colab": {
          "base_uri": "https://localhost:8080/",
          "height": 470
        },
        "outputId": "9feb115a-6b7e-4e81-a44a-85226ea9fa64"
      },
      "outputs": [
        {
          "output_type": "display_data",
          "data": {
            "text/plain": [
              "<Figure size 640x480 with 1 Axes>"
            ],
            "image/png": "[encoded data removed]"
          },
          "metadata": {}
        }
      ],
      "source": [
        "residuals.plot(kind='density')\n",
        "plt.title(f'Residuals density: mean {residuals.mean():.3f}')\n",
        "plt.ticklabel_format(style='sci', axis='x', scilimits=(0,0))\n",
        "plt.show()"
      ]
    },
    {
      "cell_type": "code",
      "source": [
        "# perform shapiro-wilk test of normality on residuals\n",
        "statistic, p_value = shapiro(residuals)\n",
        "\n",
        "print(f'Shapiro-Wilk Test Statistic:\\t{statistic:.6f}')\n",
        "print(f'p-value:\\t\\t\\t{p_value:.6f}')\n",
        "print('- - -')\n",
        "\n",
        "# interpret the results\n",
        "if p_value <= 0.05:\n",
        "    print('Reject the null hypothesis (H0) \\nThe residuals time series was not drawn from a normal distribution')\n",
        "else:\n",
        "    print('Fail to reject the null hypothesis (H0) \\nThe residuals time series was drawn from a normal distribution')"
      ],
      "metadata": {
        "id": "Myu3gbBw_DEn",
        "colab": {
          "base_uri": "https://localhost:8080/"
        },
        "outputId": "0302757d-82b1-4dbd-b203-b8e2d314db44"
      },
      "execution_count": 51,
      "outputs": [
        {
          "output_type": "stream",
          "name": "stdout",
          "text": [
            "Shapiro-Wilk Test Statistic:\t0.957658\n",
            "p-value:\t\t\t0.001903\n",
            "- - -\n",
            "Reject the null hypothesis (H0) \n",
            "The residuals time series was not drawn from a normal distribution\n"
          ]
        }
      ]
    },
    {
      "cell_type": "markdown",
      "metadata": {
        "id": "k8IsINgIG341"
      },
      "source": [
        "Next, we check whether our residuals still contain any signal in the form of autocorrelation. The first spike is the correlation of a residual with itself, which is 100%. Beyond that, there are no statistically significant lagged values, i.e. ones that are noticeably beyond the blue confidence band. We do see 1-2 values slighly outside the confidence band, however we would expect 1-2 false positives given the default alpha threshold of 0.05."
      ]
    },
    {
      "cell_type": "code",
      "execution_count": 52,
      "metadata": {
        "id": "Xkt47Ua6FlIt",
        "colab": {
          "base_uri": "https://localhost:8080/",
          "height": 452
        },
        "outputId": "013710e8-9290-4121-97ba-6384d139ac49"
      },
      "outputs": [
        {
          "output_type": "display_data",
          "data": {
            "text/plain": [
              "<Figure size 640x480 with 1 Axes>"
            ],
            "image/png": "[encoded data removed]"
          },
          "metadata": {}
        }
      ],
      "source": [
        "sm.graphics.tsa.plot_acf(residuals, lags=20)\n",
        "plt.show()"
      ]
    },
    {
      "cell_type": "markdown",
      "metadata": {
        "id": "fwpod0JTHulJ"
      },
      "source": [
        "Our final test is to see whether the residuals are stationary. If they are not, our model is potentially leaving some signal unaccounted for. The Augmented Dicky-Fuller test results in a p-value very close to zero, which leads us to reject the null hypothesis and conclude that the residuals time series is indeed stationary."
      ]
    },
    {
      "cell_type": "code",
      "execution_count": 53,
      "metadata": {
        "id": "9yIU03bkIRxQ",
        "colab": {
          "base_uri": "https://localhost:8080/"
        },
        "outputId": "e5ea208d-4f1e-460b-feec-ec838d12338e"
      },
      "outputs": [
        {
          "output_type": "stream",
          "name": "stdout",
          "text": [
            "ADF Statistic:\t-7.765775\n",
            "p-value:\t0.000000\n",
            "- - -\n",
            "Reject the null hypothesis (H0) \n",
            "The residuals time series is stationary\n"
          ]
        }
      ],
      "source": [
        "# perform adf test\n",
        "result = sm.tsa.adfuller(residuals)\n",
        "\n",
        "# extract and print the test statistic and p-value\n",
        "adf_statistic = result[0]\n",
        "p_value = result[1]\n",
        "\n",
        "print(f'ADF Statistic:\\t{adf_statistic:.6f}')\n",
        "print(f'p-value:\\t{p_value:.6f}')\n",
        "print('- - -')\n",
        "\n",
        "# interpret the results\n",
        "if p_value <= 0.05:\n",
        "    print('Reject the null hypothesis (H0) \\nThe residuals time series is stationary')\n",
        "else:\n",
        "    print('Fail to reject the null hypothesis (H0) \\nThe residuals time series is non-stationary')"
      ]
    },
    {
      "cell_type": "markdown",
      "metadata": {
        "id": "-Mq8mK1W9QCN"
      },
      "source": [
        "# Results"
      ]
    },
    {
      "cell_type": "markdown",
      "metadata": {
        "id": "k31gedXM9Fw5"
      },
      "source": [
        "# Conclusion"
      ]
    },
    {
      "cell_type": "markdown",
      "metadata": {
        "id": "jeDKr6dr9Sh8"
      },
      "source": [
        "# Further investigation"
      ]
    },
    {
      "cell_type": "markdown",
      "metadata": {
        "id": "O7d11OvNPVnB"
      },
      "source": [
        "# END"
      ]
    },
    {
      "cell_type": "code",
      "execution_count": 54,
      "metadata": {
        "id": "LGXQnSBIE9Cj",
        "colab": {
          "base_uri": "https://localhost:8080/"
        },
        "outputId": "e7259e5b-c1f6-4ffc-b0b1-fbec4a055d7a"
      },
      "outputs": [
        {
          "output_type": "stream",
          "name": "stdout",
          "text": [
            "Python implementation: CPython\n",
            "Python version       : 3.10.12\n",
            "IPython version      : 7.34.0\n",
            "\n",
            "yfinance   : 0.2.35\n",
            "numpy      : 1.23.5\n",
            "xgboost    : 2.0.3\n",
            "matplotlib : 3.7.1\n",
            "cot_reports: 0.1.3\n",
            "pandas     : 1.5.3\n",
            "seaborn    : 0.13.1\n",
            "statsmodels: 0.14.1\n",
            "optuna     : 3.5.0\n",
            "\n"
          ]
        }
      ],
      "source": [
        "# dependencies\n",
        "%load_ext watermark\n",
        "%watermark --python --iversions"
      ]
    },
    {
      "cell_type": "code",
      "execution_count": 55,
      "metadata": {
        "id": "syJGDfWFPQL2"
      },
      "outputs": [],
      "source": [
        "# last recorded dependencies as per 21 Jan 2024:\n",
        "\n",
        "# Python implementation: CPython\n",
        "# Python version       : 3.10.12\n",
        "# IPython version      : 7.34.0\n",
        "\n",
        "# pandas     : 1.5.3\n",
        "# numpy      : 1.23.5\n",
        "# lightgbm   : 4.1.0\n",
        "# matplotlib : 3.7.1\n",
        "# yfinance   : 0.2.35\n",
        "# seaborn    : 0.13.1\n",
        "# cot_reports: 0.1.3\n",
        "# optuna     : 3.5.0"
      ]
    },
    {
      "cell_type": "markdown",
      "source": [
        "**Author: Vladimir Zinkovski**\n",
        "\n",
        "Send an email: *vladimir.zinkovski@gmail*\n",
        "\n",
        "Or connect with me on: [LinkedIn](https://www.linkedin.com/in/vladimir-zinkovski/)"
      ],
      "metadata": {
        "id": "UhF_kb0unUL_"
      }
    }
  ],
  "metadata": {
    "colab": {
      "toc_visible": true,
      "provenance": [],
      "mount_file_id": "1BhxFJ9f3I05i8-ggIH6G8QrpwlJoxlYb",
      "authorship_tag": "ABX9TyO4TgAkVi7jYCpM6guhmLZh",
      "include_colab_link": true
    },
    "kernelspec": {
      "display_name": "Python 3",
      "name": "python3"
    },
    "language_info": {
      "name": "python"
    }
  },
  "nbformat": 4,
  "nbformat_minor": 0
}